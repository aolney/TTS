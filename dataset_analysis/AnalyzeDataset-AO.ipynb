{
 "cells": [
  {
   "cell_type": "code",
   "execution_count": 1,
   "metadata": {},
   "outputs": [],
   "source": [
    "TTS_PATH = \"/vm/\""
   ]
  },
  {
   "cell_type": "code",
   "execution_count": 2,
   "metadata": {},
   "outputs": [],
   "source": [
    "import os\n",
    "import sys\n",
    "sys.path.append(TTS_PATH) # set this if TTS is not installed globally\n",
    "import glob\n",
    "import librosa\n",
    "import numpy as np\n",
    "import pandas as pd\n",
    "from scipy.stats import norm\n",
    "from tqdm import tqdm_notebook as tqdm\n",
    "from multiprocessing import Pool\n",
    "from matplotlib import pylab as plt\n",
    "from collections import Counter\n",
    "from TTS.datasets.preprocess import *\n",
    "%matplotlib inline"
   ]
  },
  {
   "cell_type": "code",
   "execution_count": 3,
   "metadata": {},
   "outputs": [],
   "source": [
    "DATA_PATH = \"/y/south-park-1-to-20/\"\n",
    "META_DATA = \"metadata.csv\"\n",
    "NUM_PROC = 8"
   ]
  },
  {
   "cell_type": "code",
   "execution_count": 4,
   "metadata": {},
   "outputs": [
    {
     "name": "stdout",
     "output_type": "stream",
     "text": [
      " > Number of audio files: 11087\n"
     ]
    }
   ],
   "source": [
    "# use your own preprocessor at this stage - TTS/datasets/proprocess.py\n",
    "items = ljspeech(DATA_PATH, META_DATA)\n",
    "print(\" > Number of audio files: {}\".format(len(items)))"
   ]
  },
  {
   "cell_type": "code",
   "execution_count": 5,
   "metadata": {},
   "outputs": [],
   "source": [
    "# check wavs if exist\n",
    "wav_files = []\n",
    "for item in items:\n",
    "    wav_file = item[1].strip()\n",
    "    wav_files.append(wav_file)\n",
    "    if not os.path.exists(wav_file):\n",
    "        print(waf_path)"
   ]
  },
  {
   "cell_type": "code",
   "execution_count": 6,
   "metadata": {},
   "outputs": [
    {
     "name": "stdout",
     "output_type": "stream",
     "text": [
      "[]\n"
     ]
    }
   ],
   "source": [
    "# show duplicate items\n",
    "c = Counter(wav_files)\n",
    "print([item for item, count in c.items() if count > 1])"
   ]
  },
  {
   "cell_type": "code",
   "execution_count": 7,
   "metadata": {},
   "outputs": [
    {
     "data": {
      "application/vnd.jupyter.widget-view+json": {
       "model_id": "90fefffde15b4354b8b39a5c1628e720",
       "version_major": 2,
       "version_minor": 0
      },
      "text/plain": [
       "HBox(children=(IntProgress(value=0, max=11087), HTML(value='')))"
      ]
     },
     "metadata": {},
     "output_type": "display_data"
    },
    {
     "name": "stdout",
     "output_type": "stream",
     "text": [
      "\n"
     ]
    }
   ],
   "source": [
    "def load_item(item):\n",
    "    file_name = item[1].strip()\n",
    "    text = item[0].strip()\n",
    "    audio = librosa.load(file_name, sr=None)\n",
    "    sr = audio[1]\n",
    "    audio = audio[0]\n",
    "    audio_len = len(audio) / sr\n",
    "    text_len = len(text)\n",
    "    return file_name, text, text_len, audio, audio_len\n",
    "\n",
    "# This will take a while depending on size of dataset\n",
    "if NUM_PROC == 1:\n",
    "    data = []\n",
    "    for m in tqdm(items):\n",
    "        data += [load_item(m)]\n",
    "else:\n",
    "    with Pool(8) as p:\n",
    "        data = list(tqdm(p.imap(load_item, items), total=len(items)))"
   ]
  },
  {
   "cell_type": "code",
   "execution_count": 8,
   "metadata": {},
   "outputs": [
    {
     "data": {
      "application/vnd.jupyter.widget-view+json": {
       "model_id": "df7bb664190e4c82ba12d46a365ae662",
       "version_major": 2,
       "version_minor": 0
      },
      "text/plain": [
       "HBox(children=(IntProgress(value=0, max=11087), HTML(value='')))"
      ]
     },
     "metadata": {},
     "output_type": "display_data"
    },
    {
     "name": "stdout",
     "output_type": "stream",
     "text": [
      "\n",
      " > Number of words: 10709\n"
     ]
    }
   ],
   "source": [
    "# count words in the dataset\n",
    "w_count = Counter()\n",
    "for item in tqdm(data):\n",
    "    text = item[1].lower().strip()\n",
    "    for word in text.split():\n",
    "        w_count[word] += 1\n",
    "print(\" > Number of words: {}\".format(len(w_count)))"
   ]
  },
  {
   "cell_type": "code",
   "execution_count": 9,
   "metadata": {},
   "outputs": [
    {
     "data": {
      "application/vnd.jupyter.widget-view+json": {
       "model_id": "808aba6aa9cf46fa87ff1675137d62af",
       "version_major": 2,
       "version_minor": 0
      },
      "text/plain": [
       "HBox(children=(IntProgress(value=0, max=11087), HTML(value='')))"
      ]
     },
     "metadata": {},
     "output_type": "display_data"
    },
    {
     "name": "stdout",
     "output_type": "stream",
     "text": [
      "\n"
     ]
    }
   ],
   "source": [
    "text_vs_durs = {}  # text length vs audio duration\n",
    "text_len_counter = Counter()  # number of sentences with the keyed length\n",
    "for item in tqdm(data):\n",
    "    text = item[1].lower().strip()\n",
    "    text_len = len(text)\n",
    "    text_len_counter[text_len] += 1\n",
    "    audio_len = item[-1]\n",
    "    try:\n",
    "        text_vs_durs[text_len] += [audio_len]\n",
    "    except:\n",
    "        text_vs_durs[text_len] = [audio_len]"
   ]
  },
  {
   "cell_type": "code",
   "execution_count": 10,
   "metadata": {},
   "outputs": [],
   "source": [
    "# text_len vs avg_audio_len, median_audio_len, std_audio_len\n",
    "text_vs_avg = {}\n",
    "text_vs_median = {}\n",
    "text_vs_std = {}\n",
    "for key, durs in text_vs_durs.items():\n",
    "    text_vs_avg[key] = np.mean(durs)\n",
    "    text_vs_median[key] = np.median(durs)\n",
    "    text_vs_std[key] = np.std(durs)"
   ]
  },
  {
   "cell_type": "markdown",
   "metadata": {},
   "source": [
    "### Avg audio length per char"
   ]
  },
  {
   "cell_type": "code",
   "execution_count": 11,
   "metadata": {},
   "outputs": [],
   "source": [
    "#AO: assuming this is audio length < 2 seconds; examining item 1 shows it is completely correct; a 2 second threshold is probably a poor choice for dialogue\n",
    "for item in data:\n",
    "    #if item[-1] < 2:\n",
    "    if item[-1] < .4:\n",
    "        print(item)"
   ]
  },
  {
   "cell_type": "code",
   "execution_count": 12,
   "metadata": {},
   "outputs": [],
   "source": [
    "sec_per_chars = []\n",
    "for item in data:\n",
    "    text = item[1]\n",
    "    dur = item[-1]\n",
    "    sec_per_char = dur / len(text)\n",
    "    sec_per_chars.append(sec_per_char)\n",
    "# sec_per_char /= len(data)\n",
    "# print(sec_per_char)"
   ]
  },
  {
   "cell_type": "code",
   "execution_count": 13,
   "metadata": {},
   "outputs": [
    {
     "name": "stdout",
     "output_type": "stream",
     "text": [
      "0.058476624236823475\n",
      "0.07968556176588433\n"
     ]
    }
   ],
   "source": [
    "mean = np.mean(sec_per_chars)\n",
    "std = np.std(sec_per_chars)\n",
    "print(mean)\n",
    "print(std)"
   ]
  },
  {
   "cell_type": "code",
   "execution_count": 14,
   "metadata": {},
   "outputs": [
    {
     "name": "stdout",
     "output_type": "stream",
     "text": [
      "('/y/south-park-1-to-20/wavs/Cartman-1-1-743990-751190.wav', 'YOU ARE MAKING IT UP!', 21, array([-0.00015259,  0.00061035, -0.00064087, ...,  0.01721191,\n",
      "        0.00228882,  0.00695801], dtype=float32), 7.2)\n",
      "('/y/south-park-1-to-20/wavs/Cartman-1-1-818210-835440.wav', 'AND I KNOW THAT I AM NOT UNDER ALIEN CONTROL.', 45, array([-2.4414062e-04,  2.1362305e-04,  0.0000000e+00, ...,\n",
      "       -6.1035156e-05,  2.4414062e-04,  3.9672852e-04], dtype=float32), 17.23)\n",
      "('/y/south-park-1-to-20/wavs/Cartman-1-1-889400-901500.wav', \"GOD DAMN IT, I DIDN'T HAVE AN ANAL PROBE!\", 41, array([-1.16882324e-02, -1.21765137e-02, -1.21154785e-02, ...,\n",
      "        3.05175781e-04,  6.10351562e-05,  7.62939453e-04], dtype=float32), 12.1)\n",
      "('/y/south-park-1-to-20/wavs/Cartman-1-1-1068420-1071270.wav', 'BAD KITTY!', 10, array([-0.00048828, -0.00012207, -0.00018311, ...,  0.00039673,\n",
      "       -0.0071106 ,  0.04785156], dtype=float32), 2.85)\n",
      "('/y/south-park-1-to-20/wavs/Cartman-1-1-1618770-1627959.wav', \"SHUT UP! I'M NOT SCARED OF NOTHIN'!\", 35, array([ 0.00024414,  0.00149536,  0.00177002, ..., -0.00170898,\n",
      "       -0.00198364, -0.00119019], dtype=float32), 9.189)\n",
      "('/y/south-park-1-to-20/wavs/Cartman-1-1-3369360-3379730.wav', \"YES, MA'AM!\", 11, array([-0.00057983, -0.00057983, -0.0005188 , ..., -0.02209473,\n",
      "       -0.02233887, -0.02490234], dtype=float32), 10.37)\n",
      "('/y/south-park-1-to-20/wavs/Cartman-1-1-3675540-3682820.wav', \"I'M NOT FAT! I'M GETTING IN SHAPE!\", 34, array([ 0.00033569,  0.00045776,  0.00039673, ...,  0.00372314,\n",
      "        0.00250244, -0.00112915], dtype=float32), 7.28)\n",
      "('/y/south-park-1-to-20/wavs/Cartman-1-1-3691499-3697870.wav', 'OH, LOOK. ANOTHER HIPPIE.', 25, array([ 3.6621094e-04,  6.1645508e-03,  1.1718750e-02, ...,\n",
      "        5.7983398e-04, -9.1552734e-05,  4.5776367e-04], dtype=float32), 6.371)\n",
      "('/y/south-park-1-to-20/wavs/Cartman-1-2-1986100-1992810.wav', 'OOH, SNACKY CAKES? GET DOWN.', 28, array([-0.00952148, -0.01623535, -0.02462769, ..., -0.01409912,\n",
      "        0.00442505,  0.01870728], dtype=float32), 6.71)\n",
      "('/y/south-park-1-to-20/wavs/Cartman-1-2-2744420-2749840.wav', 'NO! GOD, NO!', 12, array([ 0.0000000e+00,  6.1035156e-05,  1.8310547e-04, ...,\n",
      "       -2.9083252e-02, -2.1362305e-02, -3.4179688e-03], dtype=float32), 5.42)\n",
      "('/y/south-park-1-to-20/wavs/Cartman-1-2-4128290-4137559.wav', 'LET US REMEMBER THE GOOD TIMES.', 31, array([-0.00042725,  0.00012207,  0.00024414, ..., -0.00149536,\n",
      "        0.00048828,  0.00183105], dtype=float32), 9.269)\n",
      "('/y/south-park-1-to-20/wavs/Cartman-1-2-5080140-5101410.wav', 'WHY THE HELL ARE ALL THESE FLIES IN HERE?', 41, array([-0.11917114,  0.14715576,  0.02566528, ...,  0.00100708,\n",
      "        0.00216675,  0.00289917], dtype=float32), 21.27)\n",
      "('/y/south-park-1-to-20/wavs/Cartman-1-2-5231080-5237980.wav', 'AH, SWEET! THE RED CROSS!', 25, array([ 0.00921631,  0.11251831, -0.01898193, ...,  0.03488159,\n",
      "        0.05993652,  0.0083313 ], dtype=float32), 6.9)\n",
      "('/y/south-park-1-to-20/wavs/Cartman-1-3-2514559-2550559.wav', 'GET OUT, GODDAMN IT!', 20, array([-3.9672852e-03, -1.2817383e-03,  3.0517578e-05, ...,\n",
      "       -1.4343262e-03, -8.2397461e-04, -8.5449219e-04], dtype=float32), 36.0)\n",
      "('/y/south-park-1-to-20/wavs/Cartman-10-1-1089569-1101519.wav', 'A MOUNTAIN LION!', 16, array([ 0.10720825,  0.03225708, -0.02105713, ..., -0.04000854,\n",
      "       -0.03884888, -0.03805542], dtype=float32), 11.95)\n",
      "('/y/south-park-1-to-20/wavs/Cartman-10-1-1162889-1168629.wav', 'OH, NEVER MIND.', 15, array([ 0.00119019, -0.00460815,  0.        , ..., -0.00479126,\n",
      "        0.00469971,  0.01202393], dtype=float32), 5.74)\n",
      "('/y/south-park-1-to-20/wavs/Cartman-10-1-1800490-1807090.wav', \"I'VE GOT BUTTERS!\", 17, array([-0.01379395, -0.0171814 , -0.01586914, ..., -0.01742554,\n",
      "       -0.01818848, -0.01904297], dtype=float32), 6.6)\n",
      "('/y/south-park-1-to-20/wavs/Cartman-10-1-2428539-2440719.wav', \"BUTTERS... BUTTERS I THINK I'M HERE!\", 36, array([0.08474731, 0.04821777, 0.01049805, ..., 0.12319946, 0.13308716,\n",
      "       0.09664917], dtype=float32), 12.18)\n",
      "('/y/south-park-1-to-20/wavs/Cartman-10-1-4311910-4316490.wav', 'SEE YA.', 7, array([-0.00390625, -0.00619507, -0.00772095, ..., -0.00671387,\n",
      "       -0.00662231, -0.00421143], dtype=float32), 4.58)\n",
      "('/y/south-park-1-to-20/wavs/Cartman-10-2-1035290-1044440.wav', 'YOU GOTTA GET ME OUT!', 21, array([ 0.00128174,  0.00250244,  0.003479  , ..., -0.00402832,\n",
      "        0.00289917, -0.00454712], dtype=float32), 9.15)\n",
      "('/y/south-park-1-to-20/wavs/Cartman-10-2-2430750-2447679.wav', \"FINE, I'LL DO IT BY MYSELF!\", 27, array([-0.00112915,  0.00057983, -0.00030518, ..., -0.00045776,\n",
      "        0.00094604,  0.00289917], dtype=float32), 16.929)\n",
      "('/y/south-park-1-to-20/wavs/Cartman-10-2-3108379-3124219.wav', \"THEN, LET'S MOVE OUT!\", 21, array([-0.11987305, -0.10513306, -0.05795288, ..., -0.03863525,\n",
      "       -0.0401001 , -0.04104614], dtype=float32), 15.84)\n",
      "('/y/south-park-1-to-20/wavs/Cartman-10-2-3135569-3141550.wav', 'AND... RIGHT CLICK!', 19, array([0.01412964, 0.01922607, 0.03259277, ..., 0.10531616, 0.06686401,\n",
      "       0.05368042], dtype=float32), 5.981)\n",
      "('/y/south-park-1-to-20/wavs/Cartman-10-2-3304969-3309399.wav', 'YES... 65,340,285.', 18, array([-3.0517578e-05,  3.6621094e-04,  3.9672852e-04, ...,\n",
      "       -1.9531250e-03, -2.2583008e-03, -2.0751953e-03], dtype=float32), 4.43)\n",
      "('/y/south-park-1-to-20/wavs/Cartman-10-2-5446060-5448440.wav', 'HALL PASS!', 10, array([-0.01464844,  0.02120972,  0.02871704, ..., -0.00283813,\n",
      "       -0.00384521, -0.00311279], dtype=float32), 2.38)\n",
      "('/y/south-park-1-to-20/wavs/Cartman-10-2-5641760-5654059.wav', \"BUT I DON'T HAVE ANY HARD FEELINGS AGAINST YOU, ALRIGHT?\", 56, array([ 0.01193237,  0.01312256,  0.01211548, ..., -0.00109863,\n",
      "       -0.00115967, -0.00143433], dtype=float32), 12.299)\n",
      "('/y/south-park-1-to-20/wavs/Cartman-10-3-206690-215620.wav', \"I'VE DONE IT LOTS OF TIMES.\", 27, array([-0.0010376 , -0.0010376 , -0.00100708, ...,  0.00067139,\n",
      "        0.00146484,  0.00259399], dtype=float32), 8.93)\n",
      "('/y/south-park-1-to-20/wavs/Cartman-10-3-1598349-1604700.wav', 'I AM NOT WAITING THREE WEEKS!', 29, array([-0.05078125, -0.05014038, -0.04858398, ..., -0.02850342,\n",
      "       -0.0244751 , -0.02508545], dtype=float32), 6.351)\n",
      "('/y/south-park-1-to-20/wavs/Cartman-10-3-3894770-3897290.wav', \"I'M BACK...\", 11, array([ 0.05023193,  0.06234741,  0.07046509, ..., -0.0012207 ,\n",
      "       -0.00109863, -0.00112915], dtype=float32), 2.52)\n",
      "('/y/south-park-1-to-20/wavs/Cartman-10-3-3922449-3924689.wav', 'NO... NO!', 9, array([-0.03546143, -0.03570557, -0.03625488, ..., -0.00094604,\n",
      "       -0.07650757, -0.10546875], dtype=float32), 2.24)\n",
      "('/y/south-park-1-to-20/wavs/Cartman-11-1-218940-222920.wav', \"IT'S ON!\", 8, array([-0.00024414, -0.00027466, -0.00027466, ..., -0.00088501,\n",
      "       -0.00076294, -0.00061035], dtype=float32), 3.98)\n",
      "('/y/south-park-1-to-20/wavs/Cartman-11-1-3868250-3882720.wav', 'BUT THAT MEANS... THAT MEANS KENNY WAS LYING!', 45, array([-0.0005188 , -0.00048828, -0.00054932, ...,  0.02954102,\n",
      "        0.03607178,  0.03735352], dtype=float32), 14.47)\n",
      "('/y/south-park-1-to-20/wavs/Cartman-11-2-3364760-3378170.wav', 'SUCK MY ASS BARF!', 17, array([ 0.06121826,  0.05047607,  0.06335449, ..., -0.00942993,\n",
      "       -0.0020752 , -0.00167847], dtype=float32), 13.41)\n",
      "('/y/south-park-1-to-20/wavs/Cartman-11-2-3544130-3556639.wav', 'UH, EXCUSE ME! I NEED THE TOILET!', 33, array([-0.02267456, -0.01754761, -0.00640869, ..., -0.00018311,\n",
      "        0.00228882,  0.00253296], dtype=float32), 12.509)\n",
      "('/y/south-park-1-to-20/wavs/Cartman-11-3-873990-876950.wav', 'AND MY BALLS.', 13, array([-0.00030518, -0.00030518, -0.00030518, ..., -0.02368164,\n",
      "       -0.02825928, -0.03268433], dtype=float32), 2.96)\n",
      "('/y/south-park-1-to-20/wavs/Cartman-11-3-3723490-3732300.wav', 'SO, KYLE, IMAGINARY THINGS ARE REAL, HUH?', 41, array([-0.03192139, -0.02914429, -0.02148438, ..., -0.01705933,\n",
      "       -0.01751709, -0.01867676], dtype=float32), 8.81)\n",
      "('/y/south-park-1-to-20/wavs/Cartman-11-3-5578629-5581999.wav', 'WE GOT IT!', 10, array([-0.02709961, -0.02444458, -0.04406738, ..., -0.00732422,\n",
      "       -0.01416016, -0.01559448], dtype=float32), 3.37)\n",
      "('/y/south-park-1-to-20/wavs/Cartman-12-1-527510-543129.wav', \"YEAH, I SNEAK INTO KYLE'S ROOM LOTS OF TIMES.\", 45, array([-0.03027344, -0.02886963, -0.0291748 , ...,  0.00320435,\n",
      "        0.00527954,  0.00613403], dtype=float32), 15.619)\n",
      "('/y/south-park-1-to-20/wavs/Cartman-12-1-1156940-1185189.wav', 'THEN KYLE IS WILLING TO TAKE THAT RISK.', 39, array([0.01025391, 0.02130127, 0.00802612, ..., 0.05923462, 0.06158447,\n",
      "       0.05728149], dtype=float32), 28.249)\n",
      "('/y/south-park-1-to-20/wavs/Cartman-12-1-3600980-3606440.wav', 'BAD KITTIES.', 12, array([ 0.01339722,  0.01501465,  0.01428223, ..., -0.00396729,\n",
      "       -0.00378418, -0.0032959 ], dtype=float32), 5.46)\n",
      "('/y/south-park-1-to-20/wavs/Cartman-12-1-4532250-4569659.wav', \"THERE'S MORE PEOPLE VIEWING IT!\", 31, array([-0.0010376 , -0.0010376 , -0.00161743, ...,  0.00250244,\n",
      "        0.0022583 ,  0.00167847], dtype=float32), 37.409)\n",
      "('/y/south-park-1-to-20/wavs/Cartman-12-1-5617950-5620930.wav', '300 BUCKS!', 10, array([-0.00021362,  0.00048828,  0.00085449, ..., -0.00592041,\n",
      "       -0.00115967, -0.00469971], dtype=float32), 2.98)\n",
      "('/y/south-park-1-to-20/wavs/Cartman-12-2-1531490-1535620.wav', 'DUDE, CHECK IT OUT!', 19, array([ 3.5705566e-03,  4.8828125e-03,  3.5095215e-03, ...,\n",
      "       -1.2207031e-04, -1.2207031e-04, -6.1035156e-05], dtype=float32), 4.13)\n",
      "('/y/south-park-1-to-20/wavs/Cartman-12-2-1960680-1966660.wav', 'I KNOW A WAY OUT THIS.', 22, array([-5.7983398e-03, -1.3763428e-02, -1.6784668e-02, ...,\n",
      "        2.1362305e-04, -9.1552734e-05, -9.1552734e-05], dtype=float32), 5.98)\n",
      "('/y/south-park-1-to-20/wavs/Cartman-12-2-3119950-3135360.wav', 'SO WHAT ARE THE PLANS TO TAKE OVER AMERICA AGAIN?', 49, array([ 0.0010376 ,  0.00128174,  0.00134277, ..., -0.01300049,\n",
      "       -0.00039673,  0.00378418], dtype=float32), 15.41)\n",
      "('/y/south-park-1-to-20/wavs/Cartman-12-2-3546690-3554780.wav', 'OH, MY GOD, OH, MY GOD, OH, MY GOD!', 35, array([0.00164795, 0.00119019, 0.00161743, ..., 0.00424194, 0.00479126,\n",
      "       0.00292969], dtype=float32), 8.09)\n",
      "('/y/south-park-1-to-20/wavs/Cartman-12-2-4554209-4566340.wav', \"IT'S GONNA BE ON YOUR FUCKING HEAD!\", 35, array([ 0.00476074,  0.00079346, -0.0015564 , ..., -0.01037598,\n",
      "       -0.01391602, -0.01455688], dtype=float32), 12.131)\n",
      "('/y/south-park-1-to-20/wavs/Cartman-12-3-81200-87119.wav', 'YEAH, ME TOO.', 13, array([ 0.00408936,  0.0032959 ,  0.00213623, ..., -0.02755737,\n",
      "       -0.02883911, -0.02893066], dtype=float32), 5.919)\n",
      "('/y/south-park-1-to-20/wavs/Cartman-12-3-4597510-4601720.wav', 'UGH, GOD, SHUT UP!', 18, array([-0.00570679,  0.00027466,  0.03424072, ...,  0.07620239,\n",
      "        0.07498169,  0.05999756], dtype=float32), 4.21)\n",
      "('/y/south-park-1-to-20/wavs/Cartman-12-3-4727599-4734349.wav', \"OH, THAT'S GOOD, THAT'S GOOD.\", 29, array([-0.11642456, -0.1229248 , -0.08728027, ...,  0.00198364,\n",
      "        0.00183105,  0.00137329], dtype=float32), 6.75)\n",
      "('/y/south-park-1-to-20/wavs/Cartman-13-1-1884389-1886920.wav', 'WHA WHAT?!', 10, array([0.00250244, 0.00262451, 0.00253296, ..., 0.00564575, 0.00756836,\n",
      "       0.00775146], dtype=float32), 2.531)\n",
      "('/y/south-park-1-to-20/wavs/Cartman-13-1-2501589-2508520.wav', 'OH, MY GOD, LOOK, EVERYONE!', 27, array([ 0.04528809,  0.06985474,  0.105896  , ..., -0.0279541 ,\n",
      "       -0.02322388, -0.01889038], dtype=float32), 6.931)\n",
      "('/y/south-park-1-to-20/wavs/Cartman-13-1-4077390-4086189.wav', \"FARTS TOTALLY AREN'T FUNNY.\", 27, array([0.01147461, 0.015625  , 0.00979614, ..., 0.0111084 , 0.00897217,\n",
      "       0.00598145], dtype=float32), 8.799)\n",
      "('/y/south-park-1-to-20/wavs/Cartman-13-1-4842460-4860770.wav', 'SO THAT WE CAN MAKE PEOPLE OPEN THEIR EYES.', 43, array([-0.00405884, -0.00747681, -0.00039673, ...,  0.02130127,\n",
      "        0.02203369,  0.01751709], dtype=float32), 18.31)\n",
      "('/y/south-park-1-to-20/wavs/Cartman-13-1-5668640-5681600.wav', \"JIMMY, I'VE BEEN THINKING.\", 26, array([-0.0039978 , -0.00311279, -0.0022583 , ..., -0.00018311,\n",
      "       -0.00030518, -0.00036621], dtype=float32), 12.96)\n",
      "('/y/south-park-1-to-20/wavs/Cartman-13-1-6080270-6083060.wav', \"DIDN'T I?\", 9, array([-3.0517578e-05, -6.1035156e-05, -1.2207031e-04, ...,\n",
      "       -3.0517578e-04, -3.8146973e-03,  3.3264160e-03], dtype=float32), 2.79)\n",
      "('/y/south-park-1-to-20/wavs/Cartman-13-2-1549940-1558179.wav', 'UH, GUYS, WHO LET IN THE G I N G E R?', 37, array([-0.02749634, -0.03790283, -0.02746582, ...,  0.00054932,\n",
      "        0.00045776,  0.00079346], dtype=float32), 8.239)\n",
      "('/y/south-park-1-to-20/wavs/Cartman-13-2-1853860-1866619.wav', 'CLYDE, THE FUCK?', 16, array([-0.02035522, -0.03259277, -0.04330444, ..., -0.00588989,\n",
      "       -0.00619507, -0.00537109], dtype=float32), 12.759)\n",
      "('/y/south-park-1-to-20/wavs/Cartman-13-2-2024850-2032100.wav', 'THE FUCK ARE YOU PIRATES DOING?!', 32, array([-0.02386475, -0.02676392, -0.02365112, ...,  0.00186157,\n",
      "        0.00228882,  0.00302124], dtype=float32), 7.25)\n",
      "('/y/south-park-1-to-20/wavs/Cartman-13-2-2117450-2129599.wav', 'JUST MAKE THE BOAT GO THAT WAY, KIND OF.', 40, array([0.00921631, 0.01394653, 0.01303101, ..., 0.0241394 , 0.02502441,\n",
      "       0.02416992], dtype=float32), 12.149)\n",
      "('/y/south-park-1-to-20/wavs/Cartman-13-2-6259670-6270400.wav', 'YEAH, THIS GUY CRUSHES.', 23, array([-0.02114868, -0.02075195, -0.02035522, ..., -0.00601196,\n",
      "       -0.00588989, -0.00646973], dtype=float32), 10.73)\n",
      "('/y/south-park-1-to-20/wavs/Cartman-13-3-875240-877950.wav', 'SHH, KENNY.', 11, array([0.00177002, 0.0020752 , 0.00189209, ..., 0.00280762, 0.0022583 ,\n",
      "       0.00140381], dtype=float32), 2.71)\n",
      "('/y/south-park-1-to-20/wavs/Cartman-13-3-1367440-1381399.wav', \"ISN'T THIS GREAT, YOU GUYS?\", 27, array([ 0.02011108,  0.02044678,  0.01293945, ..., -0.00778198,\n",
      "        0.00088501, -0.00476074], dtype=float32), 13.959)\n",
      "('/y/south-park-1-to-20/wavs/Cartman-13-3-1396560-1399150.wav', 'GOD DAMN IT!', 12, array([ 0.00717163, -0.00131226,  0.00231934, ...,  0.02990723,\n",
      "       -0.00012207, -0.00744629], dtype=float32), 2.59)\n",
      "('/y/south-park-1-to-20/wavs/Cartman-13-3-2656099-2679369.wav', \"OH, IT'S OVER! IT'S FINALLY OVER!\", 33, array([0.00881958, 0.00570679, 0.00473022, ..., 0.01092529, 0.03240967,\n",
      "       0.04470825], dtype=float32), 23.27)\n",
      "('/y/south-park-1-to-20/wavs/Cartman-13-3-3911050-3922210.wav', 'MY IDEA!', 8, array([2.1545410e-02, 2.2216797e-02, 2.0690918e-02, ..., 6.1035156e-05,\n",
      "       6.1035156e-05, 9.1552734e-05], dtype=float32), 11.16)\n",
      "('/y/south-park-1-to-20/wavs/Cartman-14-1-1288230-1297220.wav', \"WHAT THE HELL? THIS GAME'S ALL BORING NOW.\", 42, array([ 1.2207031e-04,  3.0517578e-05, -6.1035156e-05, ...,\n",
      "       -1.5258789e-04, -6.1035156e-05, -2.4414062e-04], dtype=float32), 8.99)\n",
      "('/y/south-park-1-to-20/wavs/Cartman-14-1-3314770-3331470.wav', 'ARE YOU T BAG?', 14, array([-2.8961182e-02, -2.5024414e-02, -1.4892578e-02, ...,\n",
      "       -2.7465820e-04, -1.5258789e-04, -3.0517578e-05], dtype=float32), 16.7)\n",
      "('/y/south-park-1-to-20/wavs/Cartman-14-1-3585950-3597360.wav', 'DUDE, THAT WAS SWEET!', 21, array([2.5756836e-02, 2.4322510e-02, 2.3254395e-02, ..., 3.0517578e-05,\n",
      "       2.4414062e-04, 2.1362305e-04], dtype=float32), 11.41)\n",
      "('/y/south-park-1-to-20/wavs/Cartman-14-1-6574129-6579150.wav', 'I SAID GET MR. HAT.', 19, array([-0.02304077, -0.02148438, -0.02636719, ..., -0.0015564 ,\n",
      "        0.00250244, -0.00149536], dtype=float32), 5.021)\n",
      "('/y/south-park-1-to-20/wavs/Cartman-14-2-3124190-3135940.wav', \"I'M NOT MOVING, BUTTERS.\", 24, array([0.03988647, 0.03112793, 0.01251221, ..., 0.00408936, 0.00521851,\n",
      "       0.00613403], dtype=float32), 11.75)\n",
      "('/y/south-park-1-to-20/wavs/Cartman-14-2-3145200-3150020.wav', \"LET'S GO NASCAR!\", 16, array([-0.10162354, -0.09436035, -0.06500244, ...,  0.04412842,\n",
      "        0.04592896,  0.05062866], dtype=float32), 4.82)\n",
      "('/y/south-park-1-to-20/wavs/Cartman-14-2-3692380-3704190.wav', 'NASCAR! YEAH!', 13, array([ 0.01065063,  0.01211548,  0.02261353, ..., -0.00793457,\n",
      "       -0.00656128, -0.00836182], dtype=float32), 11.81)\n",
      "('/y/south-park-1-to-20/wavs/Cartman-14-2-4538130-4554010.wav', \"AND I'M GONNA START CRAPPIN' ON YOUR DOORSTEP A LOT MORE.\", 57, array([-0.00021362, -0.00021362, -0.00021362, ...,  0.00213623,\n",
      "        0.00213623,  0.00146484], dtype=float32), 15.88)\n",
      "('/y/south-park-1-to-20/wavs/Cartman-15-1-4988610-5004780.wav', 'Yeah! Yeah, dude!', 17, array([-0.02929688, -0.00888062,  0.01351929, ..., -0.03372192,\n",
      "       -0.03372192, -0.03048706], dtype=float32), 16.17)\n",
      "('/y/south-park-1-to-20/wavs/Cartman-15-3-3356020-3363670.wav', 'Mother, come!', 13, array([-9.1552734e-05, -3.9672852e-04, -8.5449219e-04, ...,\n",
      "       -8.8500977e-04, -1.2512207e-03, -1.5869141e-03], dtype=float32), 7.65)\n",
      "('/y/south-park-1-to-20/wavs/Cartman-15-3-4393760-4398180.wav', 'Oh, my God.', 11, array([ 0.00033569, -0.00033569, -0.00192261, ...,  0.00296021,\n",
      "        0.00076294,  0.00073242], dtype=float32), 4.42)\n",
      "('/y/south-park-1-to-20/wavs/Cartman-16-1-215820-218130.wav', 'Uh uh.', 6, array([-9.1552734e-05, -6.1035156e-05, -3.0517578e-05, ...,\n",
      "        6.1035156e-05,  6.1035156e-05,  3.0517578e-05], dtype=float32), 2.31)\n",
      "('/y/south-park-1-to-20/wavs/Cartman-16-1-5014230-5032510.wav', 'Youre wrong, Kyle! God is nota dick!', 36, array([0.01013184, 0.01000977, 0.01159668, ..., 0.01074219, 0.01046753,\n",
      "       0.01174927], dtype=float32), 18.28)\n",
      "('/y/south-park-1-to-20/wavs/Cartman-16-2-158059-166080.wav', 'Ahl I almost touched it.', 24, array([-0.00454712,  0.00039673, -0.00134277, ..., -0.01455688,\n",
      "        0.00317383,  0.00994873], dtype=float32), 8.021)\n",
      "('/y/south-park-1-to-20/wavs/Cartman-16-2-451310-452200.wav', 'No.', 3, array([0.00531006, 0.00524902, 0.00488281, ..., 0.00964355, 0.00585938,\n",
      "       0.00494385], dtype=float32), 0.89)\n",
      "('/y/south-park-1-to-20/wavs/Cartman-16-2-748570-749480.wav', 'No.', 3, array([0.00091553, 0.00097656, 0.00097656, ..., 0.01980591, 0.01763916,\n",
      "       0.01498413], dtype=float32), 0.91)\n",
      "('/y/south-park-1-to-20/wavs/Cartman-16-2-1690279-1691819.wav', 'No, no.', 7, array([ 0.019104  ,  0.01083374,  0.0007019 , ..., -0.00576782,\n",
      "        0.02893066,  0.04486084], dtype=float32), 1.54)\n",
      "('/y/south-park-1-to-20/wavs/Cartman-16-2-2327660-2332490.wav', \"That's right!\", 13, array([0.00094604, 0.00305176, 0.00350952, ..., 0.00201416, 0.00073242,\n",
      "       0.0022583 ], dtype=float32), 4.83)\n",
      "('/y/south-park-1-to-20/wavs/Cartman-16-2-2333950-2339129.wav', \"I'm so sorry.\", 13, array([ 9.1552734e-05,  9.1552734e-05,  9.1552734e-05, ...,\n",
      "       -3.1738281e-03, -2.2583008e-03, -1.5563965e-03], dtype=float32), 5.179)\n",
      "('/y/south-park-1-to-20/wavs/Cartman-16-2-2502220-2513819.wav', 'I want to hold you every morning', 32, array([ 0.00045776, -0.00106812, -0.00228882, ..., -0.00222778,\n",
      "       -0.00387573, -0.01052856], dtype=float32), 11.599)\n",
      "('/y/south-park-1-to-20/wavs/Cartman-16-2-5950230-5967680.wav', 'Okay, you got it?', 17, array([0.0005188 , 0.00045776, 0.0005188 , ..., 0.003479  , 0.00515747,\n",
      "       0.01040649], dtype=float32), 17.45)\n",
      "('/y/south-park-1-to-20/wavs/Cartman-16-2-6091629-6101809.wav', 'Yes yeah, hello?', 16, array([-0.02593994,  0.01733398,  0.00228882, ..., -0.0241394 ,\n",
      "       -0.04037476, -0.05133057], dtype=float32), 10.18)\n",
      "('/y/south-park-1-to-20/wavs/Cartman-16-3-4127279-4137439.wav', 'Warm nuts, she says!', 20, array([-0.00415039, -0.00189209, -0.00015259, ..., -0.00820923,\n",
      "       -0.00778198, -0.00735474], dtype=float32), 10.16)\n",
      "('/y/south-park-1-to-20/wavs/Cartman-17-1-1152420-1154690.wav', 'I do too.', 9, array([ 0.00030518, -0.00042725, -0.00067139, ..., -0.00360107,\n",
      "       -0.00292969, -0.00311279], dtype=float32), 2.27)\n",
      "('/y/south-park-1-to-20/wavs/Cartman-17-1-3855350-3862270.wav', 'Uh oh.', 6, array([0.00027466, 0.00024414, 0.00024414, ..., 0.00204468, 0.00271606,\n",
      "       0.00164795], dtype=float32), 6.92)\n",
      "('/y/south-park-1-to-20/wavs/Cartman-17-2-1525950-1534350.wav', 'They are calling it Black Friday.', 33, array([ 0.00360107,  0.0043335 ,  0.00439453, ..., -0.00054932,\n",
      "       -0.00085449, -0.0010376 ], dtype=float32), 8.4)\n",
      "('/y/south-park-1-to-20/wavs/Cartman-17-2-1891379-1903639.wav', 'in their limited voice control functionality.', 45, array([-0.01159668, -0.01519775, -0.02041626, ..., -0.00360107,\n",
      "       -0.00012207,  0.00238037], dtype=float32), 12.26)\n",
      "('/y/south-park-1-to-20/wavs/Cartman-17-2-3086620-3093379.wav', 'Paladin Butters, I was hoping', 29, array([ 0.00292969,  0.00271606,  0.00250244, ..., -0.03244019,\n",
      "       -0.04501343, -0.05673218], dtype=float32), 6.759)\n",
      "('/y/south-park-1-to-20/wavs/Cartman-17-2-4400860-4412990.wav', 'Kenny kun, please come home at once.', 36, array([-0.00662231, -0.00747681, -0.00845337, ...,  0.00018311,\n",
      "       -0.00149536, -0.00082397], dtype=float32), 12.13)\n",
      "('/y/south-park-1-to-20/wavs/Cartman-17-2-4555950-4561929.wav', \"You're a fucking asshole!\", 25, array([-0.00131226, -0.00119019, -0.00128174, ...,  0.07327271,\n",
      "        0.06521606,  0.03674316], dtype=float32), 5.979)\n",
      "('/y/south-park-1-to-20/wavs/Cartman-18-1-201640-215729.wav', 'The trademark has been pulled. We can do whatever we want.', 58, array([ 6.1035156e-05,  9.1552734e-05,  6.1035156e-05, ...,\n",
      "        1.7089844e-03, -2.1972656e-03, -4.9133301e-03], dtype=float32), 14.089)\n",
      "('/y/south-park-1-to-20/wavs/Cartman-18-1-3252600-3262420.wav', 'This is gonna be so awesome.', 28, array([0.01599121, 0.01370239, 0.01171875, ..., 0.0249939 , 0.01971436,\n",
      "       0.01739502], dtype=float32), 9.82)\n",
      "('/y/south-park-1-to-20/wavs/Cartman-18-1-5505210-5513830.wav', 'Dude, no way! This thing is so epic.', 36, array([-0.03244019, -0.00317383,  0.03045654, ..., -0.0111084 ,\n",
      "       -0.02157593, -0.01934814], dtype=float32), 8.62)\n",
      "('/y/south-park-1-to-20/wavs/Cartman-18-1-6421000-6429190.wav', 'Oh, hey, Butters. Sup?', 22, array([-0.01400757, -0.01919556, -0.01837158, ..., -0.00613403,\n",
      "       -0.00683594, -0.0032959 ], dtype=float32), 8.19)\n",
      "('/y/south-park-1-to-20/wavs/Cartman-18-2-1566670-1573919.wav', 'Go through it and head outside.', 31, array([0.00192261, 0.00158691, 0.00094604, ..., 0.        , 0.        ,\n",
      "       0.        ], dtype=float32), 7.249)\n",
      "('/y/south-park-1-to-20/wavs/Cartman-18-2-1678110-1686850.wav', 'Qh, shit.', 9, array([ 0.01599121,  0.03347778,  0.0397644 , ..., -0.01013184,\n",
      "       -0.0012207 , -0.00338745], dtype=float32), 8.74)\n",
      "('/y/south-park-1-to-20/wavs/Cartman-18-2-2202590-2204800.wav', 'Mm.', 3, array([-0.00341797, -0.00231934, -0.00201416, ...,  0.00384521,\n",
      "        0.00360107,  0.00308228], dtype=float32), 2.21)\n",
      "('/y/south-park-1-to-20/wavs/Cartman-18-2-3913180-3934529.wav', 'It was so hard core, you guys.', 30, array([-0.00860596, -0.01101685, -0.01187134, ..., -0.00082397,\n",
      "        0.00061035,  0.00039673], dtype=float32), 21.349)\n",
      "('/y/south-park-1-to-20/wavs/Cartman-19-1-4542510-4560880.wav', 'Uh, dude, somebody spilled shit on the floor.', 45, array([-0.00369263,  0.0072937 ,  0.00909424, ..., -0.00021362,\n",
      "       -0.00018311, -0.00024414], dtype=float32), 18.37)\n",
      "('/y/south-park-1-to-20/wavs/Cartman-19-1-4973870-4988130.wav', 'what this town really needs.', 28, array([-0.01275635, -0.00964355, -0.0065918 , ..., -0.0166626 ,\n",
      "       -0.02166748, -0.01287842], dtype=float32), 14.26)\n",
      "('/y/south-park-1-to-20/wavs/Cartman-19-1-6109910-6134919.wav', 'J In my safe spaaa ce J', 23, array([ 0.08718872,  0.04190063, -0.00930786, ..., -0.04092407,\n",
      "       -0.06213379, -0.06845093], dtype=float32), 25.009)\n",
      "('/y/south-park-1-to-20/wavs/Cartman-19-2-654710-657059.wav', 'Qh, man.', 8, array([-0.00045776,  0.00012207,  0.0005188 , ..., -0.00045776,\n",
      "        0.00018311,  0.00186157], dtype=float32), 2.349)\n",
      "('/y/south-park-1-to-20/wavs/Cartman-19-2-685850-694020.wav', \"I'm just not a homosexual.\", 26, array([ 0.00213623,  0.00201416,  0.00143433, ..., -0.00088501,\n",
      "       -0.00195312, -0.00143433], dtype=float32), 8.17)\n",
      "('/y/south-park-1-to-20/wavs/Cartman-19-2-2207020-2224209.wav', 'Ohl! Oh! Oh! Ohl What did I tell you guys?', 42, array([ 3.3569336e-04,  3.5095215e-03, -3.8146973e-03, ...,\n",
      "       -3.6621094e-04,  3.0517578e-05, -6.1035156e-05], dtype=float32), 17.189)\n",
      "('/y/south-park-1-to-20/wavs/Cartman-2-1-3473630-3476020.wav', 'GODDAMN IT!', 11, array([ 0.        ,  0.        ,  0.        , ...,  0.00198364,\n",
      "       -0.00241089, -0.00549316], dtype=float32), 2.39)\n",
      "('/y/south-park-1-to-20/wavs/Cartman-2-1-3845259-3849720.wav', 'ONE DAY AT A TIME.', 18, array([0.00259399, 0.00427246, 0.00579834, ..., 0.01657104, 0.02127075,\n",
      "       0.00613403], dtype=float32), 4.461)\n",
      "('/y/south-park-1-to-20/wavs/Cartman-2-1-4108680-4109720.wav', 'OH.', 3, array([-2.4414062e-04, -4.2724609e-04, -9.1552734e-05, ...,\n",
      "        6.7138672e-04,  7.6293945e-04,  1.0375977e-03], dtype=float32), 1.04)\n",
      "('/y/south-park-1-to-20/wavs/Cartman-2-1-4484190-4496620.wav', 'OH, KICK ASS, I WANT TO HAVE A BRIS.', 36, array([ 0.01296997,  0.02365112,  0.0383606 , ..., -0.01446533,\n",
      "       -0.01300049, -0.00878906], dtype=float32), 12.43)\n",
      "('/y/south-park-1-to-20/wavs/Cartman-2-2-4950830-4954200.wav', 'OH, NO!', 7, array([-0.02545166, -0.03125   , -0.02957153, ...,  0.00582886,\n",
      "        0.00177002, -0.00561523], dtype=float32), 3.37)\n",
      "('/y/south-park-1-to-20/wavs/Cartman-2-2-4976990-4983410.wav', 'AHH...YES...', 12, array([ 0.00082397, -0.00241089, -0.00299072, ...,  0.01803589,\n",
      "        0.01263428, -0.01672363], dtype=float32), 6.42)\n",
      "('/y/south-park-1-to-20/wavs/Cartman-2-3-702150-714899.wav', 'YEAH! THIS IS SWEET.', 20, array([ 0.02484131,  0.01174927,  0.01379395, ..., -0.00582886,\n",
      "       -0.00125122,  0.00280762], dtype=float32), 12.749)\n",
      "('/y/south-park-1-to-20/wavs/Cartman-2-3-1483810-1490639.wav', \"YEAH, AND HE'S JEWISH.\", 22, array([-0.00018311, -0.00021362, -0.00015259, ...,  0.01541138,\n",
      "        0.02075195,  0.02157593], dtype=float32), 6.829)\n",
      "('/y/south-park-1-to-20/wavs/Cartman-2-3-2186800-2187260.wav', '4.', 2, array([ 0.00045776, -0.00064087, -0.00094604, ...,  0.00039673,\n",
      "        0.00024414, -0.00015259], dtype=float32), 0.46)\n",
      "('/y/south-park-1-to-20/wavs/Cartman-2-3-3387450-3389870.wav', 'OH, SWEET.', 10, array([ 3.0517578e-05,  6.1035156e-05,  6.1035156e-05, ...,\n",
      "       -4.8828125e-04,  3.0517578e-04, -1.2207031e-04], dtype=float32), 2.42)\n",
      "('/y/south-park-1-to-20/wavs/Cartman-2-3-4432630-4439539.wav', 'CAN SOMEBODY PLEASE TAKE US?', 28, array([0.00033569, 0.00100708, 0.00189209, ..., 0.00622559, 0.00497437,\n",
      "       0.00271606], dtype=float32), 6.909)\n",
      "('/y/south-park-1-to-20/wavs/Cartman-20-1-1917679-1923409.wav', 'Sup, dudes?', 11, array([-0.00262451, -0.00140381, -0.00033569, ...,  0.        ,\n",
      "       -0.00018311, -0.00015259], dtype=float32), 5.73)\n",
      "('/y/south-park-1-to-20/wavs/Cartman-20-1-5723920-5728190.wav', 'Hey, guys!', 10, array([-0.00015259, -0.00024414, -0.00024414, ..., -0.00726318,\n",
      "       -0.01083374, -0.01235962], dtype=float32), 4.27)\n",
      "('/y/south-park-1-to-20/wavs/Cartman-20-2-26750-56639.wav', 'So cool.', 8, array([ 0.040802  , -0.01525879, -0.087677  , ...,  0.06494141,\n",
      "        0.06246948,  0.05795288], dtype=float32), 29.889)\n",
      "('/y/south-park-1-to-20/wavs/Cartman-20-2-5796069-5801579.wav', 'No, no!', 7, array([-0.00595093, -0.00436401, -0.00811768, ...,  0.02154541,\n",
      "        0.01263428, -0.00994873], dtype=float32), 5.51)\n",
      "('/y/south-park-1-to-20/wavs/Cartman-3-1-2694009-2704709.wav', 'Mom, please, can we just leave?', 31, array([-0.07208252, -0.06832886, -0.09237671, ...,  0.01800537,\n",
      "        0.02029419,  0.02001953], dtype=float32), 10.7)\n",
      "('/y/south-park-1-to-20/wavs/Cartman-3-1-2766770-2772049.wav', 'Ow! I hate you!', 15, array([ 0.0000000e+00,  0.0000000e+00, -3.0517578e-05, ...,\n",
      "        2.7465820e-04,  1.2207031e-04,  0.0000000e+00], dtype=float32), 5.279)\n",
      "('/y/south-park-1-to-20/wavs/Cartman-3-1-6022540-6027380.wav', 'Come on!', 8, array([-0.00039673, -0.00054932, -0.00061035, ..., -0.01104736,\n",
      "       -0.01779175,  0.00091553], dtype=float32), 4.84)\n",
      "('/y/south-park-1-to-20/wavs/Cartman-3-1-6147460-6157060.wav', \"Is opponent ready? I'm ready.\", 29, array([3.0517578e-05, 0.0000000e+00, 0.0000000e+00, ..., 1.2207031e-04,\n",
      "       6.1035156e-05, 3.0517578e-05], dtype=float32), 9.6)\n",
      "('/y/south-park-1-to-20/wavs/Cartman-3-2-163189-164849.wav', 'Uh huh.', 7, array([-0.04995728, -0.03036499, -0.02813721, ..., -0.00152588,\n",
      "       -0.00164795, -0.00170898], dtype=float32), 1.66)\n",
      "('/y/south-park-1-to-20/wavs/Cartman-3-2-231260-254100.wav', 'Hey, I need to use the phone!', 29, array([ 2.3498535e-03, -6.1950684e-03,  6.5612793e-03, ...,\n",
      "       -9.1552734e-05, -9.1552734e-05, -9.1552734e-05], dtype=float32), 22.84)\n",
      "('/y/south-park-1-to-20/wavs/Cartman-3-2-496900-515919.wav', \"Looks like you're the turd now!\", 31, array([-0.0071106 , -0.04232788, -0.02102661, ...,  0.01889038,\n",
      "       -0.0189209 ,  0.0050354 ], dtype=float32), 19.019)\n",
      "('/y/south-park-1-to-20/wavs/Cartman-3-2-824040-833540.wav', \"Don't you believe me?\", 21, array([-0.00372314, -0.00732422, -0.00628662, ...,  0.01062012,\n",
      "        0.01156616,  0.00170898], dtype=float32), 9.5)\n",
      "('/y/south-park-1-to-20/wavs/Cartman-3-2-1217630-1220290.wav', 'Uh oh.', 6, array([-0.15335083, -0.12866211, -0.05926514, ..., -0.00891113,\n",
      "       -0.01806641,  0.00469971], dtype=float32), 2.66)\n",
      "('/y/south-park-1-to-20/wavs/Cartman-3-2-6900290-6903340.wav', 'C H A R E.', 10, array([-0.00170898,  0.00109863, -0.00115967, ...,  0.006073  ,\n",
      "        0.01168823,  0.01037598], dtype=float32), 3.05)\n",
      "('/y/south-park-1-to-20/wavs/Cartman-3-3-615630-620310.wav', \"Where's this?\", 13, array([0.00317383, 0.00335693, 0.00308228, ..., 0.01580811, 0.00775146,\n",
      "       0.01055908], dtype=float32), 4.68)\n",
      "('/y/south-park-1-to-20/wavs/Cartman-3-3-1666050-1669310.wav', 'Not this year!', 14, array([ 6.1035156e-05, -5.1879883e-04, -3.9672852e-04, ...,\n",
      "        1.7181396e-02,  2.4078369e-02,  1.9470215e-02], dtype=float32), 3.26)\n",
      "('/y/south-park-1-to-20/wavs/Cartman-3-3-1952309-1955229.wav', 'Excuse me.', 10, array([-1.2207031e-04,  0.0000000e+00,  6.1035156e-05, ...,\n",
      "        1.5258789e-04, -2.3803711e-03, -4.7607422e-03], dtype=float32), 2.92)\n",
      "('/y/south-park-1-to-20/wavs/Cartman-3-3-4560050-4573110.wav', 'Okay, is everyone accounted for?', 32, array([ 0.00015259, -0.00061035,  0.00088501, ..., -0.04150391,\n",
      "       -0.05386353, -0.06710815], dtype=float32), 13.06)\n",
      "('/y/south-park-1-to-20/wavs/Cartman-3-3-6449500-6451759.wav', 'Uh oh.', 6, array([-0.00769043, -0.01641846, -0.01559448, ...,  0.00057983,\n",
      "       -0.00064087, -0.0022583 ], dtype=float32), 2.259)\n",
      "('/y/south-park-1-to-20/wavs/Cartman-4-1-199089-212209.wav', 'HIGHER, YOU GUYS!', 17, array([0.00408936, 0.00378418, 0.00204468, ..., 0.10964966, 0.10491943,\n",
      "       0.10351562], dtype=float32), 13.12)\n",
      "('/y/south-park-1-to-20/wavs/Cartman-4-1-1423430-1426780.wav', 'UH OH.', 6, array([-3.0487061e-02, -1.4862061e-02, -1.4709473e-02, ...,\n",
      "        3.0517578e-05, -1.8310547e-04, -4.8828125e-04], dtype=float32), 3.35)\n",
      "('/y/south-park-1-to-20/wavs/Cartman-4-1-3254950-3260419.wav', 'DID YOU GUYS SEE THAT?', 22, array([ 5.0659180e-03,  5.3710938e-03,  5.4016113e-03, ...,\n",
      "       -3.0517578e-05,  2.1362305e-04,  1.0986328e-03], dtype=float32), 5.469)\n",
      "('/y/south-park-1-to-20/wavs/Cartman-4-1-3790820-3802420.wav', 'GET OFF ME, GET OFF ME!', 23, array([ 0.03302002,  0.03109741,  0.03503418, ..., -0.01104736,\n",
      "       -0.01922607, -0.03070068], dtype=float32), 11.6)\n",
      "('/y/south-park-1-to-20/wavs/Cartman-4-1-6703929-6706620.wav', 'OH, OH, OW!', 11, array([-0.09991455, -0.05612183, -0.02096558, ...,  0.00231934,\n",
      "        0.00131226,  0.00039673], dtype=float32), 2.691)\n",
      "('/y/south-park-1-to-20/wavs/Cartman-4-1-7144059-7166139.wav', 'HA HA, I BROKE YOUR SPACE CRUISER, KENNY.', 41, array([-0.00430298, -0.00411987, -0.0043335 , ..., -0.00668335,\n",
      "        0.00222778,  0.00582886], dtype=float32), 22.08)\n",
      "('/y/south-park-1-to-20/wavs/Cartman-4-2-1563089-1593430.wav', 'NOT THE NEXT SONG, THE NEXT PERSON!', 35, array([-0.06436157, -0.04919434, -0.03121948, ..., -0.03466797,\n",
      "       -0.03317261, -0.05957031], dtype=float32), 30.341)\n",
      "('/y/south-park-1-to-20/wavs/Cartman-4-2-2113700-2126500.wav', 'IF YOU WOULD, SIR, JUST WATCH THIS AND PREPARE TO BE WOWED.', 59, array([-0.00079346, -0.0005188 , -0.00054932, ..., -0.02584839,\n",
      "       -0.02984619, -0.0328064 ], dtype=float32), 12.8)\n",
      "('/y/south-park-1-to-20/wavs/Cartman-4-2-2492179-2494089.wav', 'WE WILL.', 8, array([ 0.00131226,  0.00140381,  0.00091553, ..., -0.00057983,\n",
      "       -0.00064087, -0.00100708], dtype=float32), 1.91)\n",
      "('/y/south-park-1-to-20/wavs/Cartman-4-2-4775400-4780309.wav', 'NOW WALK, TIMMY!', 16, array([-0.01184082, -0.0032959 , -0.02011108, ..., -0.00280762,\n",
      "        0.00598145,  0.00894165], dtype=float32), 4.909)\n",
      "('/y/south-park-1-to-20/wavs/Cartman-4-2-5068770-5080040.wav', 'OF COURSE, YOU GUYS, AND THEN WE CAN MAKE...', 44, array([ 0.00296021,  0.00109863,  0.0005188 , ..., -0.0005188 ,\n",
      "       -0.00204468, -0.00259399], dtype=float32), 11.27)\n",
      "('/y/south-park-1-to-20/wavs/Cartman-4-2-5446740-5455099.wav', 'OH, WEAK, YOU GUYS, SERIOUSLY WEAK.', 35, array([ 0.00933838,  0.00247192,  0.00326538, ..., -0.00131226,\n",
      "       -0.00140381, -0.00106812], dtype=float32), 8.359)\n",
      "('/y/south-park-1-to-20/wavs/Cartman-4-2-6486300-6491309.wav', 'YOU CAN SUCK MY BALLS.', 22, array([-0.06634521, -0.10043335, -0.13845825, ..., -0.06274414,\n",
      "       -0.03961182, -0.01834106], dtype=float32), 5.009)\n",
      "('/y/south-park-1-to-20/wavs/Cartman-4-3-341590-372019.wav', 'LET ME BE YOUR VOICE.', 21, array([-0.00012207, -0.00015259, -0.00015259, ..., -0.02926636,\n",
      "       -0.02072144, -0.01147461], dtype=float32), 30.429)\n",
      "('/y/south-park-1-to-20/wavs/Cartman-4-3-436280-448199.wav', \"UH, THAT'S GOBBLES, THE PHYSICALLY CHALLENGED TURKEY.\", 53, array([-1.0833740e-02, -3.0853271e-02, -4.3121338e-02, ...,\n",
      "       -6.1035156e-05, -9.1552734e-05, -1.2207031e-04], dtype=float32), 11.919)\n",
      "('/y/south-park-1-to-20/wavs/Cartman-4-3-734980-737690.wav', 'OH, MAN!', 8, array([ 0.01657104,  0.01657104,  0.01766968, ..., -0.02453613,\n",
      "        0.04098511,  0.09069824], dtype=float32), 2.71)\n",
      "('/y/south-park-1-to-20/wavs/Cartman-4-3-4999009-5008280.wav', 'WE HAVE YOUR WOMAN!', 19, array([-0.03100586, -0.03634644, -0.03851318, ..., -0.03479004,\n",
      "       -0.04129028, -0.046875  ], dtype=float32), 9.271)\n",
      "('/y/south-park-1-to-20/wavs/Cartman-4-3-5070180-5074969.wav', 'BUTTERS, YOUR TURN.', 19, array([0.0496521 , 0.04702759, 0.04412842, ..., 0.00387573, 0.00790405,\n",
      "       0.01144409], dtype=float32), 4.789)\n",
      "('/y/south-park-1-to-20/wavs/Cartman-4-3-5816730-5830099.wav', 'HEH HEH, LOOK, HE MADE STAN ALL FAT.', 36, array([ 3.0517578e-05,  3.0517578e-05,  3.0517578e-05, ...,\n",
      "        7.9345703e-04,  4.8828125e-04, -1.5258789e-04], dtype=float32), 13.369)\n",
      "('/y/south-park-1-to-20/wavs/Cartman-5-1-40150-49199.wav', 'OH MY GOD, YOU GUYS!', 20, array([-0.03128052,  0.02203369,  0.03952026, ..., -0.00991821,\n",
      "       -0.00543213,  0.00698853], dtype=float32), 9.049)\n",
      "('/y/south-park-1-to-20/wavs/Cartman-5-1-4524520-4546629.wav', 'NOW, BITE IT OFF!', 17, array([-0.02416992, -0.01916504, -0.0151062 , ...,  0.04315186,\n",
      "        0.04016113,  0.03881836], dtype=float32), 22.109)\n",
      "('/y/south-park-1-to-20/wavs/Cartman-5-1-5188330-5215150.wav', 'I MADE YOU EAT YOUR PARENTS NYAH, NYAH, NYAH, NYAH, NYAH', 56, array([1.3122559e-02, 4.7332764e-02, 4.5318604e-02, ..., 3.0517578e-05,\n",
      "       9.1552734e-05, 1.2207031e-04], dtype=float32), 26.82)\n",
      "('/y/south-park-1-to-20/wavs/Cartman-5-2-862220-866010.wav', 'UH OH.', 6, array([-0.00668335, -0.00668335, -0.00491333, ..., -0.07272339,\n",
      "       -0.0397644 , -0.01248169], dtype=float32), 3.79)\n",
      "('/y/south-park-1-to-20/wavs/Cartman-5-2-1286990-1292670.wav', \"IT'S NOT FAIR!\", 14, array([-0.01065063, -0.0098877 , -0.00708008, ..., -0.07583618,\n",
      "       -0.04736328, -0.00683594], dtype=float32), 5.68)\n",
      "('/y/south-park-1-to-20/wavs/Cartman-5-2-2507660-2518200.wav', \"OOH, BUTTERS, YOU'RE IN BIG TROUBLE NOW.\", 40, array([-0.02154541, -0.02102661, -0.01907349, ..., -0.02938843,\n",
      "       -0.01535034, -0.01550293], dtype=float32), 10.54)\n",
      "('/y/south-park-1-to-20/wavs/Cartman-5-2-2943260-2945780.wav', 'WHAT, DUDE?', 11, array([ 3.0517578e-05,  3.0517578e-05, -3.0517578e-05, ...,\n",
      "       -5.8288574e-03, -1.5167236e-02, -6.8664551e-03], dtype=float32), 2.52)\n",
      "('/y/south-park-1-to-20/wavs/Cartman-5-2-3511399-3519870.wav', 'ALL RIGHT, I THINK WE GO OVER THERE.', 36, array([-0.0005188 , -0.00024414, -0.00030518, ...,  0.00189209,\n",
      "       -0.00375366, -0.0123291 ], dtype=float32), 8.471)\n",
      "('/y/south-park-1-to-20/wavs/Cartman-5-2-3854609-3857479.wav', 'HANG ON.', 8, array([-0.165802  , -0.10821533,  0.04452515, ...,  0.00668335,\n",
      "        0.01889038,  0.02093506], dtype=float32), 2.87)\n",
      "('/y/south-park-1-to-20/wavs/Cartman-5-2-4935080-4945469.wav', 'UH OH!', 6, array([0.00299072, 0.00949097, 0.01379395, ..., 0.07781982, 0.08218384,\n",
      "       0.05697632], dtype=float32), 10.389)\n",
      "('/y/south-park-1-to-20/wavs/Cartman-6-1-931599-942129.wav', \"DON'T FORGET, A THIRD OF THAT $4 MILLION IS MINE.\", 49, array([0.        , 0.00015259, 0.00021362, ..., 0.00363159, 0.00094604,\n",
      "       0.00198364], dtype=float32), 10.53)\n",
      "('/y/south-park-1-to-20/wavs/Cartman-6-1-6646730-6661790.wav', \"I'LL DO IT.\", 11, array([ 0.01174927, -0.00015259,  0.02636719, ..., -0.01104736,\n",
      "       -0.01037598, -0.00979614], dtype=float32), 15.06)\n",
      "('/y/south-park-1-to-20/wavs/Cartman-6-2-373690-382400.wav', 'SHHH, TWEEK SHUT THE HELL UP!', 29, array([ 2.1362305e-04,  7.0190430e-04,  5.4931641e-04, ...,\n",
      "        6.1035156e-05, -3.9672852e-04, -3.9672852e-04], dtype=float32), 8.71)\n",
      "('/y/south-park-1-to-20/wavs/Cartman-6-2-813970-830800.wav', \"AH, IT'S SO GREAT THAT EVERYTHING IS BACK TO NORMAL.\", 52, array([-0.00115967, -0.00079346, -0.00061035, ...,  0.10656738,\n",
      "        0.10580444,  0.10345459], dtype=float32), 16.83)\n",
      "('/y/south-park-1-to-20/wavs/Cartman-6-2-843770-855069.wav', 'WELL LOOK!', 10, array([ 6.1035156e-05,  9.1552734e-05,  6.1035156e-05, ...,\n",
      "       -6.1950684e-03,  4.8828125e-04,  8.8500977e-04], dtype=float32), 11.299)\n",
      "('/y/south-park-1-to-20/wavs/Cartman-6-2-2867349-2883340.wav', 'HOW MANY HATS HAVE YOU MADE?', 28, array([-1.2207031e-04,  9.1552734e-05,  8.5449219e-04, ...,\n",
      "       -4.2419434e-03, -4.8522949e-03, -3.9367676e-03], dtype=float32), 15.991)\n",
      "('/y/south-park-1-to-20/wavs/Cartman-6-3-917399-925319.wav', 'JUST SUCK HIM UP AND THROW HIM OUT!!', 36, array([-0.00460815, -0.01409912, -0.01339722, ..., -0.00039673,\n",
      "       -0.00186157, -0.00302124], dtype=float32), 7.92)\n",
      "('/y/south-park-1-to-20/wavs/Cartman-6-3-2019890-2042889.wav', 'TALINGHARR THE BLACK RETURNS FROM WATCHING THE VIDEO!', 53, array([-0.00634766, -0.00823975, -0.0093689 , ...,  0.0050354 ,\n",
      "        0.00424194,  0.00250244], dtype=float32), 22.999)\n",
      "('/y/south-park-1-to-20/wavs/Cartman-6-3-2278469-2285549.wav', 'KEEP UP!', 8, array([-0.00036621,  0.00048828,  0.00112915, ...,  0.00018311,\n",
      "        0.00064087,  0.00125122], dtype=float32), 7.08)\n",
      "('/y/south-park-1-to-20/wavs/Cartman-6-3-3713400-3720580.wav', 'OH, UH, NOTHING!', 16, array([ 0.00097656,  0.00271606,  0.00344849, ..., -0.01864624,\n",
      "       -0.01654053, -0.01501465], dtype=float32), 7.18)\n",
      "('/y/south-park-1-to-20/wavs/Cartman-6-3-6403719-6414100.wav', \"OOH, UH, THAT'S A DIFFERENT COMPANY.\", 36, array([-0.02105713, -0.02319336, -0.03393555, ..., -0.08276367,\n",
      "       -0.0824585 , -0.07556152], dtype=float32), 10.381)\n",
      "('/y/south-park-1-to-20/wavs/Cartman-7-1-217220-226380.wav', 'NO SWELLING OF THE HERMODAL GLAND...', 36, array([-0.00061035, -0.00067139, -0.00097656, ...,  0.01794434,\n",
      "       -0.01947021, -0.1539917 ], dtype=float32), 9.16)\n",
      "('/y/south-park-1-to-20/wavs/Cartman-7-1-293859-300620.wav', 'COME, KYLE, DO HURRY.', 21, array([-0.00018311, -0.00021362, -0.00018311, ...,  0.0055542 ,\n",
      "        0.00567627,  0.00558472], dtype=float32), 6.761)\n",
      "('/y/south-park-1-to-20/wavs/Cartman-7-1-3667530-3669890.wav', 'BU EH', 5, array([-0.00012207, -0.00021362, -0.00012207, ...,  0.01220703,\n",
      "        0.01858521,  0.01824951], dtype=float32), 2.36)\n",
      "('/y/south-park-1-to-20/wavs/Cartman-7-1-4224210-4233730.wav', 'OH WAIT, I KNOW', 15, array([-0.00137329,  0.00366211,  0.00888062, ...,  0.04101562,\n",
      "        0.02865601,  0.01986694], dtype=float32), 9.52)\n",
      "('/y/south-park-1-to-20/wavs/Cartman-7-1-4470710-4476980.wav', 'OH, AWESOME!', 12, array([-9.1552734e-05,  1.2207031e-04, -9.1552734e-05, ...,\n",
      "       -6.3964844e-02, -6.9030762e-02, -7.2357178e-02], dtype=float32), 6.27)\n",
      "('/y/south-park-1-to-20/wavs/Cartman-7-3-188239-199200.wav', \"I'M JUST GONNA HAVE TO START BEING NICE TO KYLE.\", 48, array([0.05664062, 0.09838867, 0.1217041 , ..., 0.07965088, 0.04919434,\n",
      "       0.03543091], dtype=float32), 10.961)\n",
      "('/y/south-park-1-to-20/wavs/Cartman-7-3-1237170-1258950.wav', 'CAN I GET SOME SOPAIPILLAS, PLEASE?!', 36, array([ 0.00814819,  0.00466919, -0.00192261, ..., -0.01675415,\n",
      "       -0.00115967, -0.0020752 ], dtype=float32), 21.78)\n",
      "('/y/south-park-1-to-20/wavs/Cartman-8-1-170300-175560.wav', 'KICK ASS.', 9, array([-0.0486145 , -0.04888916, -0.04458618, ..., -0.04214478,\n",
      "       -0.0395813 , -0.03045654], dtype=float32), 5.26)\n",
      "('/y/south-park-1-to-20/wavs/Cartman-8-1-1002150-1019849.wav', 'NO, THOSE COST MONEY! GET YOUR MONEY BACK!', 42, array([ 0.12908936,  0.13293457,  0.1505127 , ..., -0.01559448,\n",
      "       -0.03509521, -0.03622437], dtype=float32), 17.699)\n",
      "('/y/south-park-1-to-20/wavs/Cartman-8-1-1399320-1404450.wav', \"WHAT? WHAT'D I DO?\", 18, array([ 0.00213623,  0.00152588,  0.00100708, ..., -0.00161743,\n",
      "       -0.00186157, -0.00161743], dtype=float32), 5.13)\n",
      "('/y/south-park-1-to-20/wavs/Cartman-8-1-1509259-1521030.wav', 'I HAVE THE BEST IDEA EVER!', 26, array([1.8576050e-01, 1.7269897e-01, 1.6088867e-01, ..., 6.1035156e-05,\n",
      "       3.0517578e-05, 6.1035156e-05], dtype=float32), 11.771)\n",
      "('/y/south-park-1-to-20/wavs/Cartman-8-1-2511740-2515680.wav', 'UH, HEH HEH DUHHH.', 18, array([-0.09405518,  0.00845337,  0.01455688, ..., -0.01391602,\n",
      "       -0.00143433,  0.0072937 ], dtype=float32), 3.94)\n",
      "('/y/south-park-1-to-20/wavs/Cartman-8-1-2724540-2730870.wav', \"DON'T HOLD ME RESPONSIBLE!\", 26, array([-0.00057983, -0.00057983, -0.0005188 , ...,  0.00738525,\n",
      "       -0.00747681, -0.00259399], dtype=float32), 6.33)\n",
      "('/y/south-park-1-to-20/wavs/Cartman-8-1-2811300-2815570.wav', 'MEL GIBSON, KYLE.', 17, array([-0.00039673, -0.0010376 , -0.00112915, ..., -0.04016113,\n",
      "       -0.03787231, -0.03475952], dtype=float32), 4.27)\n",
      "('/y/south-park-1-to-20/wavs/Cartman-8-1-2981139-2986269.wav', 'HAIL, MEL GIBSON.', 17, array([0.04312134, 0.03024292, 0.02313232, ..., 0.00128174, 0.00082397,\n",
      "       0.00033569], dtype=float32), 5.13)\n",
      "('/y/south-park-1-to-20/wavs/Cartman-8-1-4270179-4273700.wav', \"THAT'S RIGHT.\", 13, array([0.02566528, 0.03436279, 0.04946899, ..., 0.05178833, 0.07846069,\n",
      "       0.07855225], dtype=float32), 3.521)\n",
      "('/y/south-park-1-to-20/wavs/Cartman-8-1-5521509-5525209.wav', 'UH, BUTTERS,', 12, array([-0.03637695, -0.01745605,  0.00238037, ..., -0.00048828,\n",
      "       -0.00088501, -0.00299072], dtype=float32), 3.7)\n",
      "('/y/south-park-1-to-20/wavs/Cartman-8-2-746139-758349.wav', 'BUT YOU CAN SUCK MY FAT HAIRY BALLS!', 36, array([0.00787354, 0.00708008, 0.00640869, ..., 0.00576782, 0.00823975,\n",
      "       0.0090332 ], dtype=float32), 12.21)\n",
      "('/y/south-park-1-to-20/wavs/Cartman-8-2-2702860-2712540.wav', 'BUTTERS, SHUT THE HELL UP.', 26, array([ 0.00067139, -0.00057983,  0.00039673, ...,  0.08477783,\n",
      "        0.08346558,  0.09771729], dtype=float32), 9.68)\n",
      "('/y/south-park-1-to-20/wavs/Cartman-8-2-2957640-2961970.wav', 'OKAY, YOU WIN, KYLE.', 20, array([-0.00045776, -0.00045776, -0.00057983, ...,  0.01083374,\n",
      "        0.01702881,  0.01507568], dtype=float32), 4.33)\n",
      "('/y/south-park-1-to-20/wavs/Cartman-8-2-4907100-4920350.wav', \"THAT'S 10 BUCKS YOU OWE ME, DICKFACE!\", 37, array([-0.00183105, -0.00183105, -0.00189209, ..., -0.01361084,\n",
      "       -0.01821899, -0.02017212], dtype=float32), 13.25)\n",
      "('/y/south-park-1-to-20/wavs/Cartman-8-3-261790-273530.wav', 'GOD, I WISH WE HAD A PIZZA HUT IN SOUTH PARK.', 45, array([-0.00186157, -0.04568481, -0.03140259, ...,  0.01919556,\n",
      "        0.01226807,  0.00497437], dtype=float32), 11.74)\n",
      "('/y/south-park-1-to-20/wavs/Cartman-8-3-976790-992180.wav', 'STAN... STAN COME ON.', 21, array([-0.06881714, -0.04562378, -0.02261353, ...,  0.00692749,\n",
      "        0.01272583,  0.02667236], dtype=float32), 15.39)\n",
      "('/y/south-park-1-to-20/wavs/Cartman-8-3-3158130-3164140.wav', 'WAIT A MINUTE', 13, array([-7.7514648e-03, -5.6762695e-03, -3.2958984e-03, ...,\n",
      "        3.0517578e-05,  1.6784668e-03,  2.4108887e-03], dtype=float32), 6.01)\n",
      "('/y/south-park-1-to-20/wavs/Cartman-8-3-3689139-3700950.wav', 'MMMM MM MM!', 11, array([-0.00143433, -0.0116272 , -0.04476929, ...,  0.02337646,\n",
      "        0.01971436,  0.01953125], dtype=float32), 11.811)\n",
      "('/y/south-park-1-to-20/wavs/Cartman-9-1-1562309-1572409.wav', \"HERE, HERE'S SOME JOINTS AND A GUITAR.\", 38, array([ 6.1035156e-05,  3.0517578e-05, -6.1035156e-05, ...,\n",
      "       -7.9040527e-03, -2.4414062e-03,  7.6293945e-04], dtype=float32), 10.1)\n",
      "('/y/south-park-1-to-20/wavs/Cartman-9-1-2118820-2127520.wav', 'ARE WE CLEAR?', 13, array([ 0.01489258,  0.01467896,  0.01004028, ..., -0.01123047,\n",
      "       -0.01113892, -0.00689697], dtype=float32), 8.7)\n",
      "('/y/south-park-1-to-20/wavs/Cartman-9-1-2271300-2296369.wav', \"BUT IT'S ALSO THE ONLY SHOT WE...\", 33, array([ 0.00952148,  0.00942993,  0.00967407, ..., -0.05142212,\n",
      "       -0.0725708 , -0.09170532], dtype=float32), 25.069)\n",
      "('/y/south-park-1-to-20/wavs/Cartman-9-1-2404670-2413279.wav', 'SWITCHING TO SECONDARY FUEL LINE.', 33, array([0.00473022, 0.00717163, 0.00820923, ..., 0.05612183, 0.04614258,\n",
      "       0.03945923], dtype=float32), 8.609)\n",
      "('/y/south-park-1-to-20/wavs/Cartman-9-1-2465710-2472230.wav', 'AH, COME ON!', 12, array([ 0.00726318,  0.00683594,  0.00222778, ..., -0.03244019,\n",
      "       -0.04602051, -0.06314087], dtype=float32), 6.52)\n",
      "('/y/south-park-1-to-20/wavs/Cartman-9-1-3532660-3534860.wav', 'A PEGGOOO!', 10, array([-0.00015259, -0.00024414, -0.00021362, ...,  0.10293579,\n",
      "        0.0947876 ,  0.07192993], dtype=float32), 2.2)\n",
      "('/y/south-park-1-to-20/wavs/Cartman-9-1-5721039-5724400.wav', 'BALL. BALLLL.', 13, array([ 1.5258789e-04, -3.0517578e-05,  0.0000000e+00, ...,\n",
      "       -2.1362305e-04, -1.5258789e-04, -4.5776367e-04], dtype=float32), 3.361)\n",
      "('/y/south-park-1-to-20/wavs/Cartman-9-2-328890-346659.wav', 'OH MY GOD, AND YOU CAN HEAR ME?!', 32, array([ 0.00997925,  0.00759888,  0.00765991, ..., -0.05667114,\n",
      "       -0.00454712,  0.09542847], dtype=float32), 17.769)\n",
      "('/y/south-park-1-to-20/wavs/Cartman-9-2-754379-761860.wav', \"I'M GONNA MAKE MAKE IT RI I IGHT\", 32, array([ 0.0345459 ,  0.03942871,  0.03741455, ...,  0.00732422,\n",
      "       -0.07965088, -0.03219604], dtype=float32), 7.481)\n",
      "('/y/south-park-1-to-20/wavs/Cartman-9-2-2974790-2976690.wav', 'WE DID!', 7, array([-0.00057983, -0.00076294, -0.00082397, ..., -0.05804443,\n",
      "       -0.06481934, -0.05889893], dtype=float32), 1.9)\n",
      "('/y/south-park-1-to-20/wavs/Cartman-9-2-3796499-3801559.wav', 'NO NOOOOO!', 10, array([ 0.0184021 ,  0.0201416 ,  0.01086426, ..., -0.06268311,\n",
      "       -0.06445312, -0.06347656], dtype=float32), 5.06)\n",
      "('/y/south-park-1-to-20/wavs/Cartman-9-2-4292670-4296690.wav', 'OKAY, ONE...TWO...', 18, array([-0.04382324, -0.04083252, -0.02471924, ..., -0.04208374,\n",
      "       -0.0234375 ,  0.01882935], dtype=float32), 4.02)\n"
     ]
    }
   ],
   "source": [
    "dist = norm(mean, std)\n",
    "\n",
    "# find irregular instances long or short voice durations\n",
    "for item in data:\n",
    "    text = item[1]\n",
    "    dur = item[-1]\n",
    "    sec_per_char = dur / len(text)\n",
    "    pdf =norm.pdf(sec_per_char)\n",
    "    if pdf < 0.39:\n",
    "        print(item)"
   ]
  },
  {
   "cell_type": "markdown",
   "metadata": {},
   "source": [
    "### Plot Dataset Statistics"
   ]
  },
  {
   "cell_type": "code",
   "execution_count": 15,
   "metadata": {},
   "outputs": [
    {
     "data": {
      "text/plain": [
       "<matplotlib.collections.PathCollection at 0x7f62efb56c88>"
      ]
     },
     "execution_count": 15,
     "metadata": {},
     "output_type": "execute_result"
    },
    {
     "data": {
      "image/png": "[encoded data removed]",
      "text/plain": [
       "<matplotlib.figure.Figure at 0x7f62e616c9e8>"
      ]
     },
     "metadata": {
      "needs_background": "light"
     },
     "output_type": "display_data"
    }
   ],
   "source": [
    "plt.title(\"text length vs mean audio duration\")\n",
    "plt.scatter(list(text_vs_avg.keys()), list(text_vs_avg.values()))"
   ]
  },
  {
   "cell_type": "code",
   "execution_count": 16,
   "metadata": {},
   "outputs": [
    {
     "data": {
      "text/plain": [
       "<matplotlib.collections.PathCollection at 0x7f62e51d8198>"
      ]
     },
     "execution_count": 16,
     "metadata": {},
     "output_type": "execute_result"
    },
    {
     "data": {
      "image/png": "[encoded data removed]",
      "text/plain": [
       "<matplotlib.figure.Figure at 0x7f62e5225a58>"
      ]
     },
     "metadata": {
      "needs_background": "light"
     },
     "output_type": "display_data"
    }
   ],
   "source": [
    "plt.title(\"text length vs median audio duration\")\n",
    "plt.scatter(list(text_vs_median.keys()), list(text_vs_median.values()))"
   ]
  },
  {
   "cell_type": "code",
   "execution_count": 17,
   "metadata": {},
   "outputs": [
    {
     "data": {
      "text/plain": [
       "<matplotlib.collections.PathCollection at 0x7f62e50f2be0>"
      ]
     },
     "execution_count": 17,
     "metadata": {},
     "output_type": "execute_result"
    },
    {
     "data": {
      "image/png": "[encoded data removed]",
      "text/plain": [
       "<matplotlib.figure.Figure at 0x7f62e51e3710>"
      ]
     },
     "metadata": {
      "needs_background": "light"
     },
     "output_type": "display_data"
    }
   ],
   "source": [
    "plt.title(\"text length vs STD\")\n",
    "plt.scatter(list(text_vs_std.keys()), list(text_vs_std.values()))"
   ]
  },
  {
   "cell_type": "code",
   "execution_count": 18,
   "metadata": {},
   "outputs": [
    {
     "data": {
      "text/plain": [
       "<matplotlib.collections.PathCollection at 0x7f62e508f438>"
      ]
     },
     "execution_count": 18,
     "metadata": {},
     "output_type": "execute_result"
    },
    {
     "data": {
      "image/png": "[encoded data removed]",
      "text/plain": [
       "<matplotlib.figure.Figure at 0x7f62e5111ba8>"
      ]
     },
     "metadata": {
      "needs_background": "light"
     },
     "output_type": "display_data"
    }
   ],
   "source": [
    "plt.title(\"text length vs # instances\")\n",
    "plt.scatter(list(text_len_counter.keys()), list(text_len_counter.values()))"
   ]
  },
  {
   "cell_type": "markdown",
   "metadata": {},
   "source": [
    "### Check words frequencies"
   ]
  },
  {
   "cell_type": "code",
   "execution_count": 19,
   "metadata": {},
   "outputs": [],
   "source": [
    "w_count_df = pd.DataFrame.from_dict(w_count, orient='index')\n",
    "w_count_df.sort_values(0, ascending=False, inplace=True)"
   ]
  },
  {
   "cell_type": "code",
   "execution_count": 20,
   "metadata": {
    "scrolled": true
   },
   "outputs": [
    {
     "data": {
      "text/html": [
       "<div>\n",
       "<style scoped>\n",
       "    .dataframe tbody tr th:only-of-type {\n",
       "        vertical-align: middle;\n",
       "    }\n",
       "\n",
       "    .dataframe tbody tr th {\n",
       "        vertical-align: top;\n",
       "    }\n",
       "\n",
       "    .dataframe thead th {\n",
       "        text-align: right;\n",
       "    }\n",
       "</style>\n",
       "<table border=\"1\" class=\"dataframe\">\n",
       "  <thead>\n",
       "    <tr style=\"text-align: right;\">\n",
       "      <th></th>\n",
       "      <th>0</th>\n",
       "    </tr>\n",
       "  </thead>\n",
       "  <tbody>\n",
       "    <tr>\n",
       "      <th>you</th>\n",
       "      <td>2264</td>\n",
       "    </tr>\n",
       "    <tr>\n",
       "      <th>the</th>\n",
       "      <td>2170</td>\n",
       "    </tr>\n",
       "    <tr>\n",
       "      <th>i</th>\n",
       "      <td>2103</td>\n",
       "    </tr>\n",
       "    <tr>\n",
       "      <th>to</th>\n",
       "      <td>1889</td>\n",
       "    </tr>\n",
       "    <tr>\n",
       "      <th>a</th>\n",
       "      <td>1470</td>\n",
       "    </tr>\n",
       "    <tr>\n",
       "      <th>and</th>\n",
       "      <td>1296</td>\n",
       "    </tr>\n",
       "    <tr>\n",
       "      <th>of</th>\n",
       "      <td>828</td>\n",
       "    </tr>\n",
       "    <tr>\n",
       "      <th>we</th>\n",
       "      <td>794</td>\n",
       "    </tr>\n",
       "    <tr>\n",
       "      <th>is</th>\n",
       "      <td>775</td>\n",
       "    </tr>\n",
       "    <tr>\n",
       "      <th>that</th>\n",
       "      <td>759</td>\n",
       "    </tr>\n",
       "    <tr>\n",
       "      <th>my</th>\n",
       "      <td>687</td>\n",
       "    </tr>\n",
       "    <tr>\n",
       "      <th>have</th>\n",
       "      <td>640</td>\n",
       "    </tr>\n",
       "    <tr>\n",
       "      <th>in</th>\n",
       "      <td>632</td>\n",
       "    </tr>\n",
       "    <tr>\n",
       "      <th>it</th>\n",
       "      <td>630</td>\n",
       "    </tr>\n",
       "    <tr>\n",
       "      <th>i'm</th>\n",
       "      <td>597</td>\n",
       "    </tr>\n",
       "    <tr>\n",
       "      <th>all</th>\n",
       "      <td>571</td>\n",
       "    </tr>\n",
       "    <tr>\n",
       "      <th>what</th>\n",
       "      <td>533</td>\n",
       "    </tr>\n",
       "    <tr>\n",
       "      <th>this</th>\n",
       "      <td>528</td>\n",
       "    </tr>\n",
       "    <tr>\n",
       "      <th>just</th>\n",
       "      <td>516</td>\n",
       "    </tr>\n",
       "    <tr>\n",
       "      <th>for</th>\n",
       "      <td>478</td>\n",
       "    </tr>\n",
       "    <tr>\n",
       "      <th>on</th>\n",
       "      <td>456</td>\n",
       "    </tr>\n",
       "    <tr>\n",
       "      <th>are</th>\n",
       "      <td>447</td>\n",
       "    </tr>\n",
       "    <tr>\n",
       "      <th>your</th>\n",
       "      <td>445</td>\n",
       "    </tr>\n",
       "    <tr>\n",
       "      <th>oh,</th>\n",
       "      <td>439</td>\n",
       "    </tr>\n",
       "    <tr>\n",
       "      <th>be</th>\n",
       "      <td>428</td>\n",
       "    </tr>\n",
       "    <tr>\n",
       "      <th>do</th>\n",
       "      <td>416</td>\n",
       "    </tr>\n",
       "    <tr>\n",
       "      <th>get</th>\n",
       "      <td>410</td>\n",
       "    </tr>\n",
       "    <tr>\n",
       "      <th>don't</th>\n",
       "      <td>407</td>\n",
       "    </tr>\n",
       "    <tr>\n",
       "      <th>not</th>\n",
       "      <td>389</td>\n",
       "    </tr>\n",
       "    <tr>\n",
       "      <th>with</th>\n",
       "      <td>383</td>\n",
       "    </tr>\n",
       "    <tr>\n",
       "      <th>...</th>\n",
       "      <td>...</td>\n",
       "    </tr>\n",
       "    <tr>\n",
       "      <th>slaves,</th>\n",
       "      <td>1</td>\n",
       "    </tr>\n",
       "    <tr>\n",
       "      <th>paid,</th>\n",
       "      <td>1</td>\n",
       "    </tr>\n",
       "    <tr>\n",
       "      <th>rag,</th>\n",
       "      <td>1</td>\n",
       "    </tr>\n",
       "    <tr>\n",
       "      <th>killer!</th>\n",
       "      <td>1</td>\n",
       "    </tr>\n",
       "    <tr>\n",
       "      <th>flavor</th>\n",
       "      <td>1</td>\n",
       "    </tr>\n",
       "    <tr>\n",
       "      <th>tackle</th>\n",
       "      <td>1</td>\n",
       "    </tr>\n",
       "    <tr>\n",
       "      <th>patented</th>\n",
       "      <td>1</td>\n",
       "    </tr>\n",
       "    <tr>\n",
       "      <th>process,</th>\n",
       "      <td>1</td>\n",
       "    </tr>\n",
       "    <tr>\n",
       "      <th>cooking</th>\n",
       "      <td>1</td>\n",
       "    </tr>\n",
       "    <tr>\n",
       "      <th>compromise</th>\n",
       "      <td>1</td>\n",
       "    </tr>\n",
       "    <tr>\n",
       "      <th>finishing</th>\n",
       "      <td>1</td>\n",
       "    </tr>\n",
       "    <tr>\n",
       "      <th>batch</th>\n",
       "      <td>1</td>\n",
       "    </tr>\n",
       "    <tr>\n",
       "      <th>hamburgers</th>\n",
       "      <td>1</td>\n",
       "    </tr>\n",
       "    <tr>\n",
       "      <th>nurse!</th>\n",
       "      <td>1</td>\n",
       "    </tr>\n",
       "    <tr>\n",
       "      <th>records</th>\n",
       "      <td>1</td>\n",
       "    </tr>\n",
       "    <tr>\n",
       "      <th>vaccinated</th>\n",
       "      <td>1</td>\n",
       "    </tr>\n",
       "    <tr>\n",
       "      <th>pain</th>\n",
       "      <td>1</td>\n",
       "    </tr>\n",
       "    <tr>\n",
       "      <th>sharp</th>\n",
       "      <td>1</td>\n",
       "    </tr>\n",
       "    <tr>\n",
       "      <th>relief.</th>\n",
       "      <td>1</td>\n",
       "    </tr>\n",
       "    <tr>\n",
       "      <th>lightheadedness.</th>\n",
       "      <td>1</td>\n",
       "    </tr>\n",
       "    <tr>\n",
       "      <th>glow</th>\n",
       "      <td>1</td>\n",
       "    </tr>\n",
       "    <tr>\n",
       "      <th>pletit</th>\n",
       "      <td>1</td>\n",
       "    </tr>\n",
       "    <tr>\n",
       "      <th>burgers.</th>\n",
       "      <td>1</td>\n",
       "    </tr>\n",
       "    <tr>\n",
       "      <th>burgers?</th>\n",
       "      <td>1</td>\n",
       "    </tr>\n",
       "    <tr>\n",
       "      <th>vaginas.</th>\n",
       "      <td>1</td>\n",
       "    </tr>\n",
       "    <tr>\n",
       "      <th>warts</th>\n",
       "      <td>1</td>\n",
       "    </tr>\n",
       "    <tr>\n",
       "      <th>shots</th>\n",
       "      <td>1</td>\n",
       "    </tr>\n",
       "    <tr>\n",
       "      <th>trailers!</th>\n",
       "      <td>1</td>\n",
       "    </tr>\n",
       "    <tr>\n",
       "      <th>x.</th>\n",
       "      <td>1</td>\n",
       "    </tr>\n",
       "    <tr>\n",
       "      <th>bummer.</th>\n",
       "      <td>1</td>\n",
       "    </tr>\n",
       "  </tbody>\n",
       "</table>\n",
       "<p>10709 rows × 1 columns</p>\n",
       "</div>"
      ],
      "text/plain": [
       "                     0\n",
       "you               2264\n",
       "the               2170\n",
       "i                 2103\n",
       "to                1889\n",
       "a                 1470\n",
       "and               1296\n",
       "of                 828\n",
       "we                 794\n",
       "is                 775\n",
       "that               759\n",
       "my                 687\n",
       "have               640\n",
       "in                 632\n",
       "it                 630\n",
       "i'm                597\n",
       "all                571\n",
       "what               533\n",
       "this               528\n",
       "just               516\n",
       "for                478\n",
       "on                 456\n",
       "are                447\n",
       "your               445\n",
       "oh,                439\n",
       "be                 428\n",
       "do                 416\n",
       "get                410\n",
       "don't              407\n",
       "not                389\n",
       "with               383\n",
       "...                ...\n",
       "slaves,              1\n",
       "paid,                1\n",
       "rag,                 1\n",
       "killer!              1\n",
       "flavor               1\n",
       "tackle               1\n",
       "patented             1\n",
       "process,             1\n",
       "cooking              1\n",
       "compromise           1\n",
       "finishing            1\n",
       "batch                1\n",
       "hamburgers           1\n",
       "nurse!               1\n",
       "records              1\n",
       "vaccinated           1\n",
       "pain                 1\n",
       "sharp                1\n",
       "relief.              1\n",
       "lightheadedness.     1\n",
       "glow                 1\n",
       "pletit               1\n",
       "burgers.             1\n",
       "burgers?             1\n",
       "vaginas.             1\n",
       "warts                1\n",
       "shots                1\n",
       "trailers!            1\n",
       "x.                   1\n",
       "bummer.              1\n",
       "\n",
       "[10709 rows x 1 columns]"
      ]
     },
     "execution_count": 20,
     "metadata": {},
     "output_type": "execute_result"
    }
   ],
   "source": [
    "w_count_df"
   ]
  },
  {
   "cell_type": "code",
   "execution_count": 21,
   "metadata": {},
   "outputs": [
    {
     "data": {
      "text/plain": [
       "7"
      ]
     },
     "execution_count": 21,
     "metadata": {},
     "output_type": "execute_result"
    }
   ],
   "source": [
    "# check a certain word\n",
    "w_count_df.at['minute', 0]"
   ]
  },
  {
   "cell_type": "code",
   "execution_count": 68,
   "metadata": {},
   "outputs": [
    {
     "data": {
      "text/plain": [
       "<matplotlib.axes._subplots.AxesSubplot at 0x7f5f4a1949e8>"
      ]
     },
     "execution_count": 68,
     "metadata": {},
     "output_type": "execute_result"
    },
    {
     "data": {
      "image/png": "[encoded data removed]",
      "text/plain": [
       "<matplotlib.figure.Figure at 0x7f5f4a1b62e8>"
      ]
     },
     "metadata": {
      "needs_background": "light"
     },
     "output_type": "display_data"
    }
   ],
   "source": [
    "# fequency bar plot - it takes time!!\n",
    "w_count_df.plot.bar()"
   ]
  },
  {
   "cell_type": "code",
   "execution_count": null,
   "metadata": {},
   "outputs": [],
   "source": []
  }
 ],
 "metadata": {
  "kernelspec": {
   "display_name": "Python 3",
   "language": "python",
   "name": "python3"
  },
  "language_info": {
   "codemirror_mode": {
    "name": "ipython",
    "version": 3
   },
   "file_extension": ".py",
   "mimetype": "text/x-python",
   "name": "python",
   "nbconvert_exporter": "python",
   "pygments_lexer": "ipython3",
   "version": "3.6.7"
  }
 },
 "nbformat": 4,
 "nbformat_minor": 2
}

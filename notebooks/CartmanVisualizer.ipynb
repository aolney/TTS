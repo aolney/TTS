{
 "cells": [
  {
   "cell_type": "markdown",
   "metadata": {
    "kernel": "SoS"
   },
   "source": [
    "# CartmanVisualizer\n",
    "\n",
    "The purpose of this notebook is to better visualize the training process and output of the Cartman voice.\n",
    "\n",
    "At this point, it is rather narrowly focused on the audio output over time\n",
    "\n",
    "## TTS Learning Trajectory (AUDIO)\n",
    "\n",
    "Create a file used by ffmpeg to concatenate. File is a list of paths to component wavs."
   ]
  },
  {
   "cell_type": "code",
   "execution_count": 16,
   "metadata": {
    "kernel": "ifsharp"
   },
   "outputs": [],
   "source": [
    "//for each root directory, get all wavs matching a particular file name\n",
    "let filename = \"TestSentence_2.wav\"\n",
    "let rootDirs = [|\n",
    "               \"/vm/TTS/models/cartman_models/mozilla-no-loc-fattn-stopnet-sigmoid-loss_masking-August-14-2019_09+40AM-de6aeb9/test_audios\"\n",
    "               \"/vm/TTS/models/cartman_models/mozilla-no-loc-fattn-stopnet-sigmoid-loss_masking-August-15-2019_11+26AM-de6aeb9/test_audios\"\n",
    "                |]\n",
    "let paths =\n",
    "    //combine over extended model runs in root dirs\n",
    "    rootDirs\n",
    "    |> Array.collect( fun d ->\n",
    "        d \n",
    "        //root dirs are full of epoch folders\n",
    "        |> System.IO.Directory.GetDirectories\n",
    "        //numeric sort by folder/epoch name\n",
    "        |> Array.sortBy( fun p -> \n",
    "            p\n",
    "            |> System.IO.Path.GetFileName\n",
    "            |> System.Int32.Parse\n",
    "        )\n",
    "    )\n",
    "    //Append the file name\n",
    "    |> Array.map( fun p -> System.IO.Path.Combine(p,filename))\n",
    "\n",
    "//create a file for ffmpeg to concatenate (sox has issues with large numbers of files)\n",
    "//https://superuser.com/questions/587511/concatenate-multiple-wav-files-using-single-command-without-extra-file\n",
    "System.IO.File.WriteAllLines(\"concat-list.txt\", paths |> Array.map(fun p -> \"file '\" + p + \"'\"))"
   ]
  },
  {
   "cell_type": "code",
   "execution_count": 18,
   "metadata": {
    "kernel": "Bash"
   },
   "outputs": [
    {
     "name": "stdout",
     "output_type": "stream",
     "text": [
      "ffmpeg version 3.4.6-0ubuntu0.18.04.1 Copyright (c) 2000-2019 the FFmpeg developers\n",
      "  built with gcc 7 (Ubuntu 7.3.0-16ubuntu3)\n",
      "  configuration: --prefix=/usr --extra-version=0ubuntu0.18.04.1 --toolchain=hardened --libdir=/usr/lib/x86_64-linux-gnu --incdir=/usr/include/x86_64-linux-gnu --enable-gpl --disable-stripping --enable-avresample --enable-avisynth --enable-gnutls --enable-ladspa --enable-libass --enable-libbluray --enable-libbs2b --enable-libcaca --enable-libcdio --enable-libflite --enable-libfontconfig --enable-libfreetype --enable-libfribidi --enable-libgme --enable-libgsm --enable-libmp3lame --enable-libmysofa --enable-libopenjpeg --enable-libopenmpt --enable-libopus --enable-libpulse --enable-librubberband --enable-librsvg --enable-libshine --enable-libsnappy --enable-libsoxr --enable-libspeex --enable-libssh --enable-libtheora --enable-libtwolame --enable-libvorbis --enable-libvpx --enable-libwavpack --enable-libwebp --enable-libx265 --enable-libxml2 --enable-libxvid --enable-libzmq --enable-libzvbi --enable-omx --enable-openal --enable-opengl --enable-sdl2 --enable-libdc1394 --enable-libdrm --enable-libiec61883 --enable-chromaprint --enable-frei0r --enable-libopencv --enable-libx264 --enable-shared\n",
      "  WARNING: library configuration mismatch\n",
      "  avcodec     configuration: --prefix=/usr --extra-version=0ubuntu0.18.04.1 --toolchain=hardened --libdir=/usr/lib/x86_64-linux-gnu --incdir=/usr/include/x86_64-linux-gnu --enable-gpl --disable-stripping --enable-avresample --enable-avisynth --enable-gnutls --enable-ladspa --enable-libass --enable-libbluray --enable-libbs2b --enable-libcaca --enable-libcdio --enable-libflite --enable-libfontconfig --enable-libfreetype --enable-libfribidi --enable-libgme --enable-libgsm --enable-libmp3lame --enable-libmysofa --enable-libopenjpeg --enable-libopenmpt --enable-libopus --enable-libpulse --enable-librubberband --enable-librsvg --enable-libshine --enable-libsnappy --enable-libsoxr --enable-libspeex --enable-libssh --enable-libtheora --enable-libtwolame --enable-libvorbis --enable-libvpx --enable-libwavpack --enable-libwebp --enable-libx265 --enable-libxml2 --enable-libxvid --enable-libzmq --enable-libzvbi --enable-omx --enable-openal --enable-opengl --enable-sdl2 --enable-libdc1394 --enable-libdrm --enable-libiec61883 --enable-chromaprint --enable-frei0r --enable-libopencv --enable-libx264 --enable-shared --enable-version3 --disable-doc --disable-programs --enable-libopencore_amrnb --enable-libopencore_amrwb --enable-libtesseract --enable-libvo_amrwbenc\n",
      "  libavutil      55. 78.100 / 55. 78.100\n",
      "  libavcodec     57.107.100 / 57.107.100\n",
      "  libavformat    57. 83.100 / 57. 83.100\n",
      "  libavdevice    57. 10.100 / 57. 10.100\n",
      "  libavfilter     6.107.100 /  6.107.100\n",
      "  libavresample   3.  7.  0 /  3.  7.  0\n",
      "  libswscale      4.  8.100 /  4.  8.100\n",
      "  libswresample   2.  9.100 /  2.  9.100\n",
      "  libpostproc    54.  7.100 / 54.  7.100\n",
      "\u001b[0;33mGuessed Channel Layout for Input Stream #0.0 : mono\n",
      "\u001b[0mInput #0, concat, from 'concat-list.txt':\n",
      "  Duration: N/A, start: 0.000000, bitrate: 256 kb/s\n",
      "    Stream #0:0: Audio: pcm_s16le ([1][0][0][0] / 0x0001), 16000 Hz, mono, s16, 256 kb/s\n",
      "Output #0, wav, to 'combined.wav':\n",
      "  Metadata:\n",
      "    ISFT            : Lavf57.83.100\n",
      "    Stream #0:0: Audio: pcm_s16le ([1][0][0][0] / 0x0001), 16000 Hz, mono, s16, 256 kb/s\n",
      "Stream mapping:\n",
      "  Stream #0:0 -> #0:0 (copy)\n",
      "Press [q] to stop, [?] for help\n",
      "size=   87283kB time=00:46:32.98 bitrate= 256.0kbits/s speed= 446x    \n",
      "video:0kB audio:87283kB subtitle:0kB other streams:0kB global headers:0kB muxing overhead: 0.000087%\n"
     ]
    }
   ],
   "source": [
    "ffmpeg -f concat -safe 0 -i concat-list.txt -c copy combined.wav"
   ]
  },
  {
   "cell_type": "code",
   "execution_count": null,
   "metadata": {
    "kernel": "Bash"
   },
   "outputs": [],
   "source": []
  }
 ],
 "metadata": {
  "kernelspec": {
   "display_name": "SoS",
   "language": "sos",
   "name": "sos"
  },
  "language_info": {
   "codemirror_mode": "sos",
   "file_extension": ".sos",
   "mimetype": "text/x-sos",
   "name": "sos",
   "nbconvert_exporter": "sos_notebook.converter.SoS_Exporter",
   "pygments_lexer": "sos"
  },
  "sos": {
   "kernels": [
    [
     "Bash",
     "bash",
     "Bash",
     "#E6EEFF"
    ],
    [
     "ifsharp",
     "ifsharp",
     "",
     ""
    ]
   ],
   "version": "0.9.15.3"
  }
 },
 "nbformat": 4,
 "nbformat_minor": 2
}
